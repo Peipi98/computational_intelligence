{
 "cells": [
  {
   "cell_type": "code",
   "execution_count": 1,
   "metadata": {
    "pycharm": {
     "name": "#%%\n"
    }
   },
   "outputs": [],
   "source": [
    "import numpy as np\n",
    "import random\n",
    "import logging\n",
    "from copy import copy\n",
    "from collections import Counter"
   ]
  },
  {
   "cell_type": "code",
   "execution_count": 2,
   "metadata": {
    "pycharm": {
     "name": "#%%\n"
    }
   },
   "outputs": [],
   "source": [
    "def problem(N, seed=None):\n",
    "    random.seed(seed)\n",
    "    return [\n",
    "        list(set(random.randint(0, N - 1) for n in range(random.randint(N // 5, N // 2))))\n",
    "        for n in range(random.randint(N, N * 5))\n",
    "    ]"
   ]
  },
  {
   "cell_type": "markdown",
   "metadata": {
    "pycharm": {
     "name": "#%% md\n"
    }
   },
   "source": [
    "## Core function"
   ]
  },
  {
   "cell_type": "markdown",
   "metadata": {
    "pycharm": {
     "name": "#%% md\n"
    }
   },
   "source": [
    "### Random Hill Climbing"
   ]
  },
  {
   "cell_type": "code",
   "execution_count": 5,
   "metadata": {
    "pycharm": {
     "name": "#%%\n"
    }
   },
   "outputs": [],
   "source": [
    "def RM_hc(N, all_lists):\n",
    "    \"\"\"Vanilla Hill Climber\"\"\"\n",
    "    all_lists = set(tuple(_) for _ in all_lists)\n",
    "\n",
    "    def evaluate(state):\n",
    "        cnt = Counter()\n",
    "        cnt.update(sum((e for e in state), start=()))\n",
    "        return len(cnt), -cnt.total()\n",
    "\n",
    "    def tweak(solution):\n",
    "        new_solution = set(solution)\n",
    "        while new_solution and random.random() < 0.7:\n",
    "            r = random.choice(list(new_solution))\n",
    "            new_solution.remove(r)\n",
    "        while random.random() < 0.7:\n",
    "            a = random.choice(list(all_lists - solution))\n",
    "            new_solution.add(a)\n",
    "        print(\"new solution: \", new_solution)\n",
    "        return new_solution\n",
    "\n",
    "    current_solution = set()\n",
    "    useless_steps = 0\n",
    "    while useless_steps < 10_000:\n",
    "        useless_steps += 1\n",
    "        candidate_solution = tweak(current_solution)\n",
    "        if evaluate(candidate_solution) > evaluate(current_solution):\n",
    "            useless_steps = 0\n",
    "            current_solution = copy(candidate_solution)\n",
    "            logging.debug(f\"New solution: {evaluate(current_solution)}\")\n",
    "    return current_solution"
   ]
  },
  {
   "cell_type": "markdown",
   "metadata": {
    "pycharm": {
     "name": "#%% md\n"
    }
   },
   "source": [
    "### Steepest-step Hill Climbing"
   ]
  },
  {
   "cell_type": "markdown",
   "metadata": {
    "pycharm": {
     "name": "#%% md\n"
    }
   },
   "source": [
    "source: [hill climbing example](https://towardsdatascience.com/how-to-implement-the-hill-climbing-algorithm-in-python-1c65c29469de)"
   ]
  },
  {
   "cell_type": "code",
   "execution_count": null,
   "metadata": {
    "pycharm": {
     "name": "#%%\n"
    }
   },
   "outputs": [],
   "source": [
    "def SS_hc(N, all_lists):\n",
    "    all_lists = set(tuple(_) for _ in all_lists)\n",
    "\n",
    "    def evaluate(state):\n",
    "        cnt = Counter()\n",
    "        cnt.update(sum((e for e in state), start=()))\n",
    "        return len(cnt), -cnt.total()\n",
    "        \n",
    "    def tweak(solution):\n",
    "        new_solution = set(solution)\n",
    "        while new_solution and random.random() < 0.7:\n",
    "            r = random.choice(list(new_solution))\n",
    "            new_solution.remove(r)\n",
    "        while random.random() < 0.7:\n",
    "            a = random.choice(list(all_lists - solution))\n",
    "            new_solution.add(a)\n",
    "        return new_solution\n",
    "\n",
    "    current_solution = set()\n",
    "    useless_steps = 0\n",
    "    while useless_steps < 10_000:\n",
    "        useless_steps += 1\n",
    "        candidate_solution = tweak(current_solution)\n",
    "        if evaluate(candidate_solution) > evaluate(current_solution):\n",
    "            useless_steps = 0\n",
    "            current_solution = copy(candidate_solution)\n",
    "            logging.debug(f\"New solution: {evaluate(current_solution)}\")\n",
    "    return current_solution"
   ]
  },
  {
   "cell_type": "markdown",
   "metadata": {
    "pycharm": {
     "name": "#%% md\n"
    }
   },
   "source": [
    "### Execution"
   ]
  },
  {
   "cell_type": "code",
   "execution_count": 7,
   "metadata": {
    "pycharm": {
     "name": "#%%\n"
    }
   },
   "outputs": [
    {
     "name": "stderr",
     "output_type": "stream",
     "text": [
      "INFO:root: Solution for RMHC | N=5: w=5 (bloat=0%)\n"
     ]
    }
   ],
   "source": [
    "logging.getLogger().setLevel(logging.INFO)\n",
    "#, 10, 20, 100, 500, 1000\n",
    "for N in [5, 10]:\n",
    "    solution = RM_hc(N, problem(N, seed=42))\n",
    "    logging.info(\n",
    "        f\" Solution for RMHC | N={N:,}: \"\n",
    "        + f\"w={sum(len(_) for _ in solution):,} \"\n",
    "        + f\"(bloat={(sum(len(_) for _ in solution)-N)/N*100:.0f}%)\"\n",
    "    )\n",
    "\n",
    "    "
   ]
  },
  {
   "cell_type": "code",
   "execution_count": null,
   "metadata": {
    "pycharm": {
     "name": "#%%\n"
    }
   },
   "outputs": [
    {
     "data": {
      "text/plain": [
       "3"
      ]
     },
     "execution_count": 8,
     "metadata": {},
     "output_type": "execute_result"
    },
    {
     "ename": "",
     "evalue": "",
     "output_type": "error",
     "traceback": [
      "\u001B[1;31mnotebook controller is DISPOSED. \n",
      "\u001B[1;31mPer ulteriori dettagli, visualizzare Jupyter <a href='command:jupyter.viewOutput'>log</a>."
     ]
    }
   ],
   "source": [
    "a = (1,2,3)\n",
    "\n",
    "len(a)"
   ]
  }
 ],
 "metadata": {
  "kernelspec": {
   "display_name": "Python 3.10.2 64-bit",
   "language": "python",
   "name": "python3"
  },
  "language_info": {
   "codemirror_mode": {
    "name": "ipython",
    "version": 3
   },
   "file_extension": ".py",
   "mimetype": "text/x-python",
   "name": "python",
   "nbconvert_exporter": "python",
   "pygments_lexer": "ipython3",
   "version": "3.10.2"
  },
  "orig_nbformat": 4,
  "vscode": {
   "interpreter": {
    "hash": "aee8b7b246df8f9039afb4144a1f6fd8d2ca17a180786b69acc140d282b71a49"
   }
  }
 },
 "nbformat": 4,
 "nbformat_minor": 2
}