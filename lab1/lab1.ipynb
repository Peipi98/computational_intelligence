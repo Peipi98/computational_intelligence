{
 "cells": [
  {
   "cell_type": "code",
   "execution_count": 1,
   "metadata": {},
   "outputs": [],
   "source": [
    "import random"
   ]
  },
  {
   "cell_type": "code",
   "execution_count": 2,
   "metadata": {},
   "outputs": [],
   "source": [
    "def problem(N, seed=None):\n",
    "    random.seed(seed)\n",
    "    return [\n",
    "        list(set(random.randint(0, N - 1) for n in range(random.randint(N // 5, N // 2))))\n",
    "        for n in range(random.randint(N, N * 5))\n",
    "    ]"
   ]
  },
  {
   "cell_type": "code",
   "execution_count": 3,
   "metadata": {},
   "outputs": [
    {
     "name": "stdout",
     "output_type": "stream",
     "text": [
      "[[0], [1], [0], [4], [0], [1], [4], [4], [4], [1, 3], [0, 1], [2], [1], [0], [0, 2], [2, 4], [3], [3], [4], [2, 4], [0], [1], [0, 1], [3], [2, 3]]\n"
     ]
    }
   ],
   "source": [
    "print(problem(5,42))"
   ]
  },
  {
   "cell_type": "code",
   "execution_count": 4,
   "metadata": {},
   "outputs": [],
   "source": [
    "import numpy as np"
   ]
  },
  {
   "cell_type": "code",
   "execution_count": 5,
   "metadata": {},
   "outputs": [],
   "source": [
    "from gx_utils import *"
   ]
  },
  {
   "cell_type": "code",
   "execution_count": 6,
   "metadata": {},
   "outputs": [],
   "source": [
    "import logging\n",
    "\n",
    "\n",
    "def greedy(N):\n",
    "    goal = set(range(N))\n",
    "    covered = set()\n",
    "    solution = list()\n",
    "    all_lists = sorted(problem(N, seed=42), key=lambda l: len(l))\n",
    "    while goal != covered:\n",
    "        x = all_lists.pop(0)\n",
    "        if not set(x) < covered:\n",
    "            solution.append(x)\n",
    "            covered |= set(x)\n",
    "\n",
    "    logging.info(\n",
    "        f\"Greedy solution for N={N}: w={sum(len(_) for _ in solution)} (bloat={(sum(len(_) for _ in solution)-N)/N*100:.0f}%)\"\n",
    "    )\n",
    "    logging.debug(f\"{solution}\")"
   ]
  },
  {
   "cell_type": "code",
   "execution_count": 7,
   "metadata": {},
   "outputs": [
    {
     "name": "stderr",
     "output_type": "stream",
     "text": [
      "INFO:root:Greedy solution for N=5: w=5 (bloat=0%)\n",
      "INFO:root:Greedy solution for N=10: w=13 (bloat=30%)\n",
      "INFO:root:Greedy solution for N=20: w=46 (bloat=130%)\n",
      "INFO:root:Greedy solution for N=100: w=332 (bloat=232%)\n",
      "INFO:root:Greedy solution for N=500: w=2162 (bloat=332%)\n",
      "INFO:root:Greedy solution for N=1000: w=4652 (bloat=365%)\n"
     ]
    }
   ],
   "source": [
    "logging.getLogger().setLevel(logging.INFO)\n",
    "for N in [5, 10, 20, 100, 500, 1000]:\n",
    "    greedy(N)"
   ]
  },
  {
   "cell_type": "code",
   "execution_count": 8,
   "metadata": {},
   "outputs": [],
   "source": [
    "import logging\n",
    "from random import seed, choice\n",
    "from typing import Callable\n",
    "\n",
    "logging.basicConfig(format=\"%(message)s\", level=logging.INFO)"
   ]
  },
  {
   "cell_type": "code",
   "execution_count": 9,
   "metadata": {},
   "outputs": [],
   "source": [
    "class State:\n",
    "    def __init__(self, data: np.ndarray):\n",
    "        self._data = data.copy()\n",
    "        self._data.flags.writeable = False\n",
    "\n",
    "    def __hash__(self):\n",
    "        return hash(bytes(self._data))\n",
    "\n",
    "    def __eq__(self, other):\n",
    "        return bytes(self._data) == bytes(other._data)\n",
    "\n",
    "    def __lt__(self, other):\n",
    "        return bytes(self._data) < bytes(other._data)\n",
    "\n",
    "    def __str__(self):\n",
    "        return str(self._data)\n",
    "\n",
    "    def __repr__(self):\n",
    "        return repr(self._data)\n",
    "\n",
    "    @property\n",
    "    def data(self):\n",
    "        return self._data\n",
    "\n",
    "    def copy_data(self):\n",
    "        return self._data.copy()"
   ]
  },
  {
   "cell_type": "code",
   "execution_count": 10,
   "metadata": {},
   "outputs": [],
   "source": [
    "#return a new_state if elem contains element different from state\n",
    "def result(state, elem):\n",
    "    elem_set = set(elem)\n",
    "    state_set = set()\n",
    "    for e in state.copy_data():\n",
    "            [state_set.add(i) for i in e]\n",
    "    intersection = list(elem_set - state_set)\n",
    "    if intersection == []: return False\n",
    "\n",
    "    new_state = []\n",
    "    [new_state.append(e) for e in state.copy_data().tolist()]\n",
    "    new_state.append(elem)\n",
    "    #print(f'append element {elem}')\n",
    "    new_state = sorted(new_state, key=lambda l: len(l))\n",
    "    \n",
    "    return State(np.array(new_state))\n",
    "\n"
   ]
  },
  {
   "cell_type": "code",
   "execution_count": 11,
   "metadata": {},
   "outputs": [
    {
     "name": "stderr",
     "output_type": "stream",
     "text": [
      "INFO:root:Goal:\n",
      "[0, 1, 2, 3, 4, 5, 6, 7, 8, 9, 10, 11, 12, 13, 14, 15, 16, 17, 18, 19, 20, 21, 22, 23, 24, 25, 26, 27, 28, 29, 30, 31, 32, 33, 34, 35, 36, 37, 38, 39, 40, 41, 42, 43, 44, 45, 46, 47, 48, 49, 50, 51, 52, 53, 54, 55, 56, 57, 58, 59, 60, 61, 62, 63, 64, 65, 66, 67, 68, 69, 70, 71, 72, 73, 74, 75, 76, 77, 78, 79, 80, 81, 82, 83, 84, 85, 86, 87, 88, 89, 90, 91, 92, 93, 94, 95, 96, 97, 98, 99]\n"
     ]
    }
   ],
   "source": [
    "#GOAL = State(np.array(range(5)))\n",
    "GOAL = list(set(range(100)))\n",
    "logging.info(f\"Goal:\\n{GOAL}\")\n",
    "\n",
    "def goal_test(state):\n",
    "    state_set = set()\n",
    "    test = state.copy_data().tolist()\n",
    "    for e in test:\n",
    "        [state_set.add(i) for i in e]\n",
    "    return list(state_set) == GOAL"
   ]
  },
  {
   "cell_type": "code",
   "execution_count": 18,
   "metadata": {},
   "outputs": [],
   "source": [
    "def search(\n",
    "    initial_state: State,\n",
    "    goal_test: Callable,\n",
    "    parent_state: dict,\n",
    "    state_cost: dict,\n",
    "    priority_function: Callable,\n",
    "    unit_cost: Callable,\n",
    "    N: int\n",
    "\n",
    "):  \n",
    "    frontier = PriorityQueue()\n",
    "    parent_state.clear()\n",
    "    state_cost.clear()\n",
    "\n",
    "    state = initial_state\n",
    "    parent_state[state] = None\n",
    "    state_cost[state] = 0\n",
    "    state_repeat = 0\n",
    "    \n",
    "    GOAL = list(set(range(N)))\n",
    "    #logging.info(f\"Goal:\\n{GOAL}\")\n",
    "    \n",
    "    for elem in input_state:\n",
    "        while state is not None and not goal_test(state):\n",
    "            #print(f'n.state {state_repeat}, state: {state}, elem: {elem}')\n",
    "            #index = input_state.index(elem)\n",
    "            new_state = result(state, elem)\n",
    "            # check if new node contains element different from ones in the state\n",
    "            if not new_state or elem in state.copy_data().tolist():\n",
    "                break\n",
    "            else:\n",
    "                cost = 1\n",
    "                if new_state not in state_cost and new_state not in frontier:\n",
    "                    parent_state[new_state] = state\n",
    "                    state_cost[new_state] = state_cost[state] + cost\n",
    "                    frontier.push(new_state, p=priority_function(new_state))\n",
    "                    logging.debug(f\"Added new node to frontier (cost={state_cost[new_state]})\")\n",
    "                elif new_state in frontier and state_cost[new_state] > state_cost[state] + cost:\n",
    "                    old_cost = state_cost[new_state]\n",
    "                    parent_state[new_state] = state\n",
    "                    state_cost[new_state] = state_cost[state] + cost\n",
    "                    logging.debug(f\"Updated node cost in frontier: {old_cost} -> {state_cost[new_state]}\")\n",
    "        \n",
    "            if frontier:\n",
    "                state = frontier.pop()\n",
    "            else:\n",
    "                state = None\n",
    "        \n",
    "    path = list()\n",
    "    s = state\n",
    "    while s:\n",
    "        path.append(s.copy_data())\n",
    "        s = parent_state[s]\n",
    "\n",
    "    logging.info(f\"N = {N} | Found a solution in {len(path):,} steps; visited {len(state_cost):,} states, w = {sum([len(i) for i in state.copy_data().tolist()])}\")\n",
    "    #logging.info(f'statee: {state}')\n",
    "    #return list(reversed(path))"
   ]
  },
  {
   "cell_type": "code",
   "execution_count": 20,
   "metadata": {},
   "outputs": [],
   "source": [
    "input_state = sorted(problem(100, seed=42), key=lambda l: len(l))\n",
    "initial_state = State(np.array([input_state[0]]))\n",
    "#print(input_state)"
   ]
  },
  {
   "cell_type": "markdown",
   "metadata": {},
   "source": [
    "# Breadth-first"
   ]
  },
  {
   "cell_type": "code",
   "execution_count": 19,
   "metadata": {},
   "outputs": [
    {
     "name": "stderr",
     "output_type": "stream",
     "text": [
      "INFO:root:N = 5 | Found a solution in 5 steps; visited 5 states, w = 5\n",
      "C:\\Users\\peppe\\AppData\\Local\\Temp\\ipykernel_12128\\4026044864.py:16: VisibleDeprecationWarning: Creating an ndarray from ragged nested sequences (which is a list-or-tuple of lists-or-tuples-or ndarrays with different lengths or shapes) is deprecated. If you meant to do this, you must specify 'dtype=object' when creating the ndarray.\n",
      "  return State(np.array(new_state))\n",
      "INFO:root:N = 10 | Found a solution in 7 steps; visited 7 states, w = 13\n",
      "INFO:root:N = 20 | Found a solution in 12 steps; visited 12 states, w = 46\n",
      "INFO:root:N = 50 | Found a solution in 15 steps; visited 15 states, w = 137\n",
      "INFO:root:N = 100 | Found a solution in 19 steps; visited 19 states, w = 332\n",
      "INFO:root:N = 500 | Found a solution in 24 steps; visited 24 states, w = 2162\n",
      "INFO:root:N = 1000 | Found a solution in 26 steps; visited 26 states, w = 4652\n"
     ]
    }
   ],
   "source": [
    "parent_state = dict()\n",
    "state_cost = dict()\n",
    "\n",
    "logging.getLogger().setLevel(logging.INFO)\n",
    "for n in [5,10,20,50,100,500,1000]:\n",
    "    input_state = sorted(problem(n, seed=42), key=lambda l: len(l))\n",
    "    initial_state = State(np.array([input_state[0]]))\n",
    "    search(\n",
    "        initial_state=initial_state,\n",
    "        goal_test=goal_test,\n",
    "        parent_state=parent_state,\n",
    "        state_cost=state_cost,\n",
    "        priority_function=lambda s: len(state_cost),\n",
    "        unit_cost=lambda a: 1,\n",
    "        N=n\n",
    "    )"
   ]
  },
  {
   "cell_type": "markdown",
   "metadata": {},
   "source": [
    "# A*"
   ]
  },
  {
   "cell_type": "code",
   "execution_count": 15,
   "metadata": {},
   "outputs": [
    {
     "name": "stdout",
     "output_type": "stream",
     "text": [
      "[[32  1 67 68 70  8 76 14 80 49 48 19 20 54 87 59 92]]\n",
      "n.state 0, state: [[32  1 67 68 70  8 76 14 80 49 48 19 20 54 87 59 92]], elem: [32, 1, 67, 68, 70, 8, 76, 14, 80, 49, 48, 19, 20, 54, 87, 59, 92]\n",
      "n.state 0, state: [[32  1 67 68 70  8 76 14 80 49 48 19 20 54 87 59 92]], elem: [64, 32, 2, 67, 69, 70, 5, 8, 44, 45, 46, 47, 49, 81, 60, 30, 95]\n",
      "append element [64, 32, 2, 67, 69, 70, 5, 8, 44, 45, 46, 47, 49, 81, 60, 30, 95]\n"
     ]
    },
    {
     "ename": "AttributeError",
     "evalue": "'list' object has no attribute '_data'",
     "output_type": "error",
     "traceback": [
      "\u001b[1;31m---------------------------------------------------------------------------\u001b[0m",
      "\u001b[1;31mAttributeError\u001b[0m                            Traceback (most recent call last)",
      "Cell \u001b[1;32mIn [15], line 9\u001b[0m\n\u001b[0;32m      5\u001b[0m \u001b[39mdef\u001b[39;00m \u001b[39mh\u001b[39m(state):\n\u001b[0;32m      6\u001b[0m     \u001b[39mreturn\u001b[39;00m np\u001b[39m.\u001b[39msum((state\u001b[39m.\u001b[39m_data \u001b[39m!=\u001b[39m GOAL\u001b[39m.\u001b[39m_data) \u001b[39m&\u001b[39m (state\u001b[39m.\u001b[39m_data \u001b[39m>\u001b[39m \u001b[39m0\u001b[39m))\n\u001b[1;32m----> 9\u001b[0m final \u001b[39m=\u001b[39m search(\n\u001b[0;32m     10\u001b[0m     initial_state\u001b[39m=\u001b[39;49minitial_state,\n\u001b[0;32m     11\u001b[0m     goal_test\u001b[39m=\u001b[39;49mgoal_test,\n\u001b[0;32m     12\u001b[0m     parent_state\u001b[39m=\u001b[39;49mparent_state,\n\u001b[0;32m     13\u001b[0m     state_cost\u001b[39m=\u001b[39;49mstate_cost,\n\u001b[0;32m     14\u001b[0m     priority_function\u001b[39m=\u001b[39;49m\u001b[39mlambda\u001b[39;49;00m s: state_cost[s] \u001b[39m+\u001b[39;49m h(s),\n\u001b[0;32m     15\u001b[0m     unit_cost\u001b[39m=\u001b[39;49m\u001b[39mlambda\u001b[39;49;00m a: \u001b[39m1\u001b[39;49m,\n\u001b[0;32m     16\u001b[0m )\n",
      "Cell \u001b[1;32mIn [12], line 34\u001b[0m, in \u001b[0;36msearch\u001b[1;34m(initial_state, goal_test, parent_state, state_cost, priority_function, unit_cost)\u001b[0m\n\u001b[0;32m     32\u001b[0m     parent_state[new_state] \u001b[39m=\u001b[39m state\n\u001b[0;32m     33\u001b[0m     state_cost[new_state] \u001b[39m=\u001b[39m state_cost[state] \u001b[39m+\u001b[39m cost\n\u001b[1;32m---> 34\u001b[0m     frontier\u001b[39m.\u001b[39mpush(new_state, p\u001b[39m=\u001b[39mpriority_function(new_state))\n\u001b[0;32m     35\u001b[0m     logging\u001b[39m.\u001b[39mdebug(\u001b[39mf\u001b[39m\u001b[39m\"\u001b[39m\u001b[39mAdded new node to frontier (cost=\u001b[39m\u001b[39m{\u001b[39;00mstate_cost[new_state]\u001b[39m}\u001b[39;00m\u001b[39m)\u001b[39m\u001b[39m\"\u001b[39m)\n\u001b[0;32m     36\u001b[0m \u001b[39melif\u001b[39;00m new_state \u001b[39min\u001b[39;00m frontier \u001b[39mand\u001b[39;00m state_cost[new_state] \u001b[39m>\u001b[39m state_cost[state] \u001b[39m+\u001b[39m cost:\n",
      "Cell \u001b[1;32mIn [15], line 14\u001b[0m, in \u001b[0;36m<lambda>\u001b[1;34m(s)\u001b[0m\n\u001b[0;32m      5\u001b[0m \u001b[39mdef\u001b[39;00m \u001b[39mh\u001b[39m(state):\n\u001b[0;32m      6\u001b[0m     \u001b[39mreturn\u001b[39;00m np\u001b[39m.\u001b[39msum((state\u001b[39m.\u001b[39m_data \u001b[39m!=\u001b[39m GOAL\u001b[39m.\u001b[39m_data) \u001b[39m&\u001b[39m (state\u001b[39m.\u001b[39m_data \u001b[39m>\u001b[39m \u001b[39m0\u001b[39m))\n\u001b[0;32m      9\u001b[0m final \u001b[39m=\u001b[39m search(\n\u001b[0;32m     10\u001b[0m     initial_state\u001b[39m=\u001b[39minitial_state,\n\u001b[0;32m     11\u001b[0m     goal_test\u001b[39m=\u001b[39mgoal_test,\n\u001b[0;32m     12\u001b[0m     parent_state\u001b[39m=\u001b[39mparent_state,\n\u001b[0;32m     13\u001b[0m     state_cost\u001b[39m=\u001b[39mstate_cost,\n\u001b[1;32m---> 14\u001b[0m     priority_function\u001b[39m=\u001b[39m\u001b[39mlambda\u001b[39;00m s: state_cost[s] \u001b[39m+\u001b[39m h(s),\n\u001b[0;32m     15\u001b[0m     unit_cost\u001b[39m=\u001b[39m\u001b[39mlambda\u001b[39;00m a: \u001b[39m1\u001b[39m,\n\u001b[0;32m     16\u001b[0m )\n",
      "Cell \u001b[1;32mIn [15], line 6\u001b[0m, in \u001b[0;36mh\u001b[1;34m(state)\u001b[0m\n\u001b[0;32m      5\u001b[0m \u001b[39mdef\u001b[39;00m \u001b[39mh\u001b[39m(state):\n\u001b[1;32m----> 6\u001b[0m     \u001b[39mreturn\u001b[39;00m np\u001b[39m.\u001b[39msum((state\u001b[39m.\u001b[39m_data \u001b[39m!=\u001b[39m GOAL\u001b[39m.\u001b[39;49m_data) \u001b[39m&\u001b[39m (state\u001b[39m.\u001b[39m_data \u001b[39m>\u001b[39m \u001b[39m0\u001b[39m))\n",
      "\u001b[1;31mAttributeError\u001b[0m: 'list' object has no attribute '_data'"
     ]
    }
   ],
   "source": [
    "parent_state = dict()\n",
    "state_cost = dict()\n",
    "\n",
    "\n",
    "def h(state):\n",
    "    return np.sum((state._data != GOAL._data) & (state._data > 0))\n",
    "\n",
    "\n",
    "final = search(\n",
    "    initial_state=initial_state,\n",
    "    goal_test=goal_test,\n",
    "    parent_state=parent_state,\n",
    "    state_cost=state_cost,\n",
    "    priority_function=lambda s: state_cost[s] + h(s),\n",
    "    unit_cost=lambda a: 1,\n",
    ")"
   ]
  },
  {
   "cell_type": "code",
   "execution_count": null,
   "metadata": {},
   "outputs": [
    {
     "name": "stdout",
     "output_type": "stream",
     "text": [
      "ciao\n"
     ]
    },
    {
     "name": "stderr",
     "output_type": "stream",
     "text": [
      "/var/folders/k_/4h0dvkqj46g0m9nchy6tny8h0000gn/T/ipykernel_8338/3208662567.py:9: VisibleDeprecationWarning: Creating an ndarray from ragged nested sequences (which is a list-or-tuple of lists-or-tuples-or ndarrays with different lengths or shapes) is deprecated. If you meant to do this, you must specify 'dtype=object' when creating the ndarray.\n",
      "  m = np.array([[3,4],[5]])\n"
     ]
    },
    {
     "ename": "TypeError",
     "evalue": "unhashable type: 'list'",
     "output_type": "error",
     "traceback": [
      "\u001b[0;31m---------------------------------------------------------------------------\u001b[0m",
      "\u001b[0;31mTypeError\u001b[0m                                 Traceback (most recent call last)",
      "\u001b[0;32m/var/folders/k_/4h0dvkqj46g0m9nchy6tny8h0000gn/T/ipykernel_8338/3208662567.py\u001b[0m in \u001b[0;36m<module>\u001b[0;34m\u001b[0m\n\u001b[1;32m      8\u001b[0m \u001b[0mprova_state\u001b[0m \u001b[0;34m=\u001b[0m \u001b[0mset\u001b[0m\u001b[0;34m(\u001b[0m\u001b[0mState\u001b[0m\u001b[0;34m(\u001b[0m\u001b[0mnp\u001b[0m\u001b[0;34m.\u001b[0m\u001b[0marray\u001b[0m\u001b[0;34m(\u001b[0m\u001b[0mm\u001b[0m\u001b[0;34m)\u001b[0m\u001b[0;34m)\u001b[0m\u001b[0;34m.\u001b[0m\u001b[0mcopy_data\u001b[0m\u001b[0;34m(\u001b[0m\u001b[0;34m)\u001b[0m\u001b[0;34m.\u001b[0m\u001b[0mtolist\u001b[0m\u001b[0;34m(\u001b[0m\u001b[0;34m)\u001b[0m\u001b[0;34m)\u001b[0m\u001b[0;34m\u001b[0m\u001b[0;34m\u001b[0m\u001b[0m\n\u001b[1;32m      9\u001b[0m \u001b[0mm\u001b[0m \u001b[0;34m=\u001b[0m \u001b[0mnp\u001b[0m\u001b[0;34m.\u001b[0m\u001b[0marray\u001b[0m\u001b[0;34m(\u001b[0m\u001b[0;34m[\u001b[0m\u001b[0;34m[\u001b[0m\u001b[0;36m3\u001b[0m\u001b[0;34m,\u001b[0m\u001b[0;36m4\u001b[0m\u001b[0;34m]\u001b[0m\u001b[0;34m,\u001b[0m\u001b[0;34m[\u001b[0m\u001b[0;36m5\u001b[0m\u001b[0;34m]\u001b[0m\u001b[0;34m]\u001b[0m\u001b[0;34m)\u001b[0m\u001b[0;34m\u001b[0m\u001b[0;34m\u001b[0m\u001b[0m\n\u001b[0;32m---> 10\u001b[0;31m \u001b[0mintersection\u001b[0m \u001b[0;34m=\u001b[0m \u001b[0mlist\u001b[0m\u001b[0;34m(\u001b[0m\u001b[0mset\u001b[0m\u001b[0;34m(\u001b[0m\u001b[0mm\u001b[0m\u001b[0;34m)\u001b[0m \u001b[0;34m-\u001b[0m \u001b[0mset\u001b[0m\u001b[0;34m(\u001b[0m\u001b[0mprova_state\u001b[0m\u001b[0;34m)\u001b[0m\u001b[0;34m)\u001b[0m\u001b[0;34m\u001b[0m\u001b[0;34m\u001b[0m\u001b[0m\n\u001b[0m\u001b[1;32m     11\u001b[0m \u001b[0;34m\u001b[0m\u001b[0m\n\u001b[1;32m     12\u001b[0m \u001b[0;34m[\u001b[0m\u001b[0mprova_state\u001b[0m\u001b[0;34m.\u001b[0m\u001b[0madd\u001b[0m\u001b[0;34m(\u001b[0m\u001b[0mi\u001b[0m\u001b[0;34m)\u001b[0m \u001b[0;32mfor\u001b[0m \u001b[0mi\u001b[0m \u001b[0;32min\u001b[0m \u001b[0mintersection\u001b[0m\u001b[0;34m]\u001b[0m\u001b[0;34m\u001b[0m\u001b[0;34m\u001b[0m\u001b[0m\n",
      "\u001b[0;31mTypeError\u001b[0m: unhashable type: 'list'"
     ]
    }
   ],
   "source": [
    "l = [1]\n",
    "m = [1,2,3]\n",
    "\n",
    "if l in m:\n",
    "    print('suca')\n",
    "print('ciao')\n",
    "\n",
    "prova_state = set(State(np.array(m)).copy_data().tolist())\n",
    "m = np.array([[3,4],[5]])\n",
    "intersection = list(set(m) - set(prova_state))\n",
    "\n",
    "[prova_state.add(i) for i in intersection]\n",
    "print(prova_state)\n",
    "print(intersection)\n",
    "\n",
    "\n",
    "#########################\n",
    "prova = [5,6,7]\n",
    "res = result(m, prova)\n",
    "print(res)"
   ]
  },
  {
   "cell_type": "code",
   "execution_count": null,
   "metadata": {},
   "outputs": [
    {
     "name": "stdout",
     "output_type": "stream",
     "text": [
      "[list([array([1]), array([2, 3])]) list([5, 6, 7])]\n"
     ]
    },
    {
     "name": "stderr",
     "output_type": "stream",
     "text": [
      "/var/folders/k_/4h0dvkqj46g0m9nchy6tny8h0000gn/T/ipykernel_8338/3867376264.py:9: VisibleDeprecationWarning: Creating an ndarray from ragged nested sequences (which is a list-or-tuple of lists-or-tuples-or ndarrays with different lengths or shapes) is deprecated. If you meant to do this, you must specify 'dtype=object' when creating the ndarray.\n",
      "  new_state = State(np.array([[i for i in m.copy_data().tolist()], prova.copy_data().tolist()]))\n"
     ]
    }
   ],
   "source": [
    "\n",
    "l = [1]\n",
    "m = [[1],[2,3]]\n",
    "m_1 = State(np.array([1]))\n",
    "m_23 = State(np.array([2,3]))\n",
    "m = State(np.array([m_1, m_23]))\n",
    "#m = State(np.array(m))\n",
    "#########################\n",
    "prova = State(np.array([5,6,7]))\n",
    "new_state = State(np.array([m.copy_data().tolist(), prova.copy_data().tolist()]))\n",
    "print(State(np.array(new_state)))\n",
    "m = m.copy_data().tolist()"
   ]
  },
  {
   "cell_type": "code",
   "execution_count": null,
   "metadata": {},
   "outputs": [
    {
     "name": "stdout",
     "output_type": "stream",
     "text": [
      "ciao\n",
      "[0]\n",
      "[2, 3]\n",
      "[list([0]) list([2, 3]) list([5])]\n",
      "[list([0]) list([2, 3]) list([5])]\n"
     ]
    },
    {
     "name": "stderr",
     "output_type": "stream",
     "text": [
      "C:\\Users\\peppe\\AppData\\Local\\Temp\\ipykernel_5856\\88107558.py:1: VisibleDeprecationWarning: Creating an ndarray from ragged nested sequences (which is a list-or-tuple of lists-or-tuples-or ndarrays with different lengths or shapes) is deprecated. If you meant to do this, you must specify 'dtype=object' when creating the ndarray.\n",
      "  v_0 = State(np.array([[0], [2,3]]))\n",
      "C:\\Users\\peppe\\AppData\\Local\\Temp\\ipykernel_5856\\88107558.py:2: VisibleDeprecationWarning: Creating an ndarray from ragged nested sequences (which is a list-or-tuple of lists-or-tuples-or ndarrays with different lengths or shapes) is deprecated. If you meant to do this, you must specify 'dtype=object' when creating the ndarray.\n",
      "  v_1 = State(np.array([[0], [2,3]]))\n",
      "C:\\Users\\peppe\\AppData\\Local\\Temp\\ipykernel_5856\\181570025.py:14: VisibleDeprecationWarning: Creating an ndarray from ragged nested sequences (which is a list-or-tuple of lists-or-tuples-or ndarrays with different lengths or shapes) is deprecated. If you meant to do this, you must specify 'dtype=object' when creating the ndarray.\n",
      "  new_state = State(np.array(new_state))\n"
     ]
    }
   ],
   "source": [
    "v_0 = State(np.array([[0], [2,3]]))\n",
    "v_1 = State(np.array([[0], [2,3]]))\n",
    "\n",
    "if all(v_0.copy_data() == v_1.copy_data()):\n",
    "    print('ciao')\n",
    "\n",
    "arr = [5]\n",
    "\n",
    "new_state = result(v_0, arr)\n",
    "print(new_state)"
   ]
  },
  {
   "cell_type": "code",
   "execution_count": null,
   "metadata": {},
   "outputs": [
    {
     "name": "stdout",
     "output_type": "stream",
     "text": [
      "[0]\n",
      "[2, 3]\n",
      "[0, 2, 3]\n"
     ]
    }
   ],
   "source": [
    "set_arr = set()\n",
    "for e in v_0.copy_data():\n",
    "    print(e)\n",
    "    [set_arr.add(i) for i in e]\n",
    "print(list(set_arr))"
   ]
  },
  {
   "cell_type": "code",
   "execution_count": null,
   "metadata": {},
   "outputs": [
    {
     "name": "stdout",
     "output_type": "stream",
     "text": [
      "ci sono\n",
      "test: True\n"
     ]
    },
    {
     "name": "stderr",
     "output_type": "stream",
     "text": [
      "C:\\Users\\peppe\\AppData\\Local\\Temp\\ipykernel_4760\\3644089678.py:1: VisibleDeprecationWarning: Creating an ndarray from ragged nested sequences (which is a list-or-tuple of lists-or-tuples-or ndarrays with different lengths or shapes) is deprecated. If you meant to do this, you must specify 'dtype=object' when creating the ndarray.\n",
      "  prova = State(np.array([[0,1],[2,3],[4]]))\n"
     ]
    }
   ],
   "source": [
    "prova = State(np.array([[0,1],[2,3],[4]]))\n",
    "prova2 = [2,3]\n",
    "if prova2 in prova.copy_data().tolist():\n",
    "    print('ci sono')\n",
    "print(f'test: {goal_test(prova)}')"
   ]
  }
 ],
 "metadata": {
  "kernelspec": {
   "display_name": "Python 3.10.4 64-bit",
   "language": "python",
   "name": "python3"
  },
  "language_info": {
   "codemirror_mode": {
    "name": "ipython",
    "version": 3
   },
   "file_extension": ".py",
   "mimetype": "text/x-python",
   "name": "python",
   "nbconvert_exporter": "python",
   "pygments_lexer": "ipython3",
   "version": "3.10.4"
  },
  "orig_nbformat": 4,
  "vscode": {
   "interpreter": {
    "hash": "d2ef8134e8e0f539bb7fdc465feafd0bf4d5b2799f2ddaf036ce3b58abafc971"
   }
  }
 },
 "nbformat": 4,
 "nbformat_minor": 2
}
