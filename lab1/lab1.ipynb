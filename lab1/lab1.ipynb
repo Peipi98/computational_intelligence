{
 "cells": [
  {
   "cell_type": "code",
   "execution_count": 1,
   "metadata": {},
   "outputs": [],
   "source": [
    "import random"
   ]
  },
  {
   "cell_type": "code",
   "execution_count": 2,
   "metadata": {},
   "outputs": [],
   "source": [
    "def problem(N, seed=None):\n",
    "    random.seed(seed)\n",
    "    return [\n",
    "        list(set(random.randint(0, N - 1) for n in range(random.randint(N // 5, N // 2))))\n",
    "        for n in range(random.randint(N, N * 5))\n",
    "    ]"
   ]
  },
  {
   "cell_type": "code",
   "execution_count": 3,
   "metadata": {},
   "outputs": [
    {
     "name": "stdout",
     "output_type": "stream",
     "text": [
      "[[0], [1], [0], [4], [0], [1], [4], [4], [4], [1, 3], [0, 1], [2], [1], [0], [0, 2], [2, 4], [3], [3], [4], [2, 4], [0], [1], [0, 1], [3], [2, 3]]\n"
     ]
    }
   ],
   "source": [
    "print(problem(5,42))"
   ]
  },
  {
   "cell_type": "code",
   "execution_count": 4,
   "metadata": {},
   "outputs": [],
   "source": [
    "import numpy as np"
   ]
  },
  {
   "cell_type": "code",
   "execution_count": 5,
   "metadata": {},
   "outputs": [],
   "source": [
    "from gx_utils import *"
   ]
  },
  {
   "cell_type": "code",
   "execution_count": 6,
   "metadata": {},
   "outputs": [],
   "source": [
    "import logging\n",
    "\n",
    "\n",
    "def greedy(N):\n",
    "    goal = set(range(N))\n",
    "    covered = set()\n",
    "    solution = list()\n",
    "    all_lists = sorted(problem(N, seed=42), key=lambda l: len(l))\n",
    "    while goal != covered:\n",
    "        x = all_lists.pop(0)\n",
    "        if not set(x) < covered:\n",
    "            solution.append(x)\n",
    "            covered |= set(x)\n",
    "\n",
    "    logging.info(\n",
    "        f\"Greedy solution for N={N}: w={sum(len(_) for _ in solution)} (bloat={(sum(len(_) for _ in solution)-N)/N*100:.0f}%)\"\n",
    "    )\n",
    "    logging.debug(f\"{solution}\")"
   ]
  },
  {
   "cell_type": "code",
   "execution_count": 7,
   "metadata": {},
   "outputs": [
    {
     "name": "stderr",
     "output_type": "stream",
     "text": [
      "INFO:root:Greedy solution for N=5: w=5 (bloat=0%)\n",
      "INFO:root:Greedy solution for N=10: w=13 (bloat=30%)\n",
      "INFO:root:Greedy solution for N=20: w=46 (bloat=130%)\n",
      "INFO:root:Greedy solution for N=100: w=332 (bloat=232%)\n",
      "INFO:root:Greedy solution for N=500: w=2162 (bloat=332%)\n",
      "INFO:root:Greedy solution for N=1000: w=4652 (bloat=365%)\n"
     ]
    }
   ],
   "source": [
    "logging.getLogger().setLevel(logging.INFO)\n",
    "for N in [5, 10, 20, 100, 500, 1000]:\n",
    "    greedy(N)"
   ]
  },
  {
   "cell_type": "code",
   "execution_count": 8,
   "metadata": {},
   "outputs": [],
   "source": [
    "import logging\n",
    "from random import seed, choice\n",
    "from typing import Callable\n",
    "\n",
    "logging.basicConfig(format=\"%(message)s\", level=logging.INFO)"
   ]
  },
  {
   "cell_type": "code",
   "execution_count": 9,
   "metadata": {},
   "outputs": [],
   "source": [
    "class State:\n",
    "    def __init__(self, data: np.ndarray):\n",
    "        self._data = data.copy()\n",
    "        self._data.flags.writeable = False\n",
    "\n",
    "    def __hash__(self):\n",
    "        return hash(bytes(self._data))\n",
    "\n",
    "    def __eq__(self, other):\n",
    "        return bytes(self._data) == bytes(other._data)\n",
    "\n",
    "    def __lt__(self, other):\n",
    "        return bytes(self._data) < bytes(other._data)\n",
    "\n",
    "    def __str__(self):\n",
    "        return str(self._data)\n",
    "\n",
    "    def __repr__(self):\n",
    "        return repr(self._data)\n",
    "\n",
    "    @property\n",
    "    def data(self):\n",
    "        return self._data\n",
    "\n",
    "    def copy_data(self):\n",
    "        return self._data.copy()"
   ]
  },
  {
   "cell_type": "code",
   "execution_count": 20,
   "metadata": {},
   "outputs": [],
   "source": [
    "#return a new_state if elem contains element different from state\n",
    "def result(state, elem):\n",
    "    elem_set = set(elem)\n",
    "    state_set = set()\n",
    "    for e in state.copy_data():\n",
    "            [state_set.add(i) for i in e]\n",
    "    intersection = list(elem_set - state_set)\n",
    "    if intersection == []: return False\n",
    "\n",
    "    new_state = []\n",
    "    [new_state.append(e) for e in state.copy_data().tolist()]\n",
    "    new_state.append(elem)\n",
    "    #print(f'append element {elem}')\n",
    "    new_state = sorted(new_state, key=lambda l: len(l))\n",
    "    \n",
    "    return State(np.array(new_state))\n",
    "\n",
    "def goal_test(state):\n",
    "    state_set = set()\n",
    "    test = state.copy_data().tolist()\n",
    "    for e in test:\n",
    "        [state_set.add(i) for i in e]\n",
    "    return list(state_set) == GOAL\n"
   ]
  },
  {
   "cell_type": "code",
   "execution_count": 38,
   "metadata": {},
   "outputs": [],
   "source": [
    "def search(\n",
    "    initial_state: State,\n",
    "    goal_test: Callable,\n",
    "    parent_state: dict,\n",
    "    state_cost: dict,\n",
    "    priority_function: Callable,\n",
    "    unit_cost: Callable,\n",
    "    N: int\n",
    "\n",
    "):  \n",
    "    frontier = PriorityQueue()\n",
    "    parent_state.clear()\n",
    "    state_cost.clear()\n",
    "\n",
    "    state = initial_state\n",
    "    parent_state[state] = None\n",
    "    state_cost[state] = 0\n",
    "    state_repeat = 0\n",
    "    \n",
    "    GOAL = list(set(range(N)))\n",
    "    #logging.info(f\"Goal:\\n{GOAL}\")\n",
    "    visited_nodes = 0\n",
    "    for elem in input_state:\n",
    "        while state is not None and not goal_test(state):\n",
    "            #print(f'n.state {state_repeat}, state: {state}, elem: {elem}')\n",
    "            #index = input_state.index(elem)\n",
    "            new_state = result(state, elem)\n",
    "            visited_nodes += 1\n",
    "            # check if new node contains element different from ones in the state\n",
    "            if not new_state or elem in state.copy_data().tolist():\n",
    "                break\n",
    "            else:\n",
    "                cost = unit_cost(elem)\n",
    "                if new_state not in state_cost and new_state not in frontier:\n",
    "                    parent_state[new_state] = state\n",
    "                    state_cost[new_state] = state_cost[state] + cost\n",
    "                    frontier.push(new_state, p=priority_function(new_state))\n",
    "                    logging.debug(f\"Added new node to frontier (cost={state_cost[new_state]})\")\n",
    "                elif new_state in frontier and state_cost[new_state] > state_cost[state] + cost:\n",
    "                    old_cost = state_cost[new_state]\n",
    "                    parent_state[new_state] = state\n",
    "                    state_cost[new_state] = state_cost[state] + cost\n",
    "                    logging.debug(f\"Updated node cost in frontier: {old_cost} -> {state_cost[new_state]}\")\n",
    "        \n",
    "            if frontier:\n",
    "                state = frontier.pop()\n",
    "            else:\n",
    "                state = None\n",
    "        \n",
    "    path = list()\n",
    "    s = state\n",
    "    while s:\n",
    "        path.append(s.copy_data())\n",
    "        s = parent_state[s]\n",
    "\n",
    "    #logging.info(f\"N = {N} | Found a solution in {len(path):,} steps; visited {len(state_cost):,} states, w = {sum([len(i) for i in state.copy_data().tolist()])}\")\n",
    "    logging.info(f\"N = {N} | Found a solution in {visited_nodes} steps; visited {len(state_cost):,} states, w = {sum([len(i) for i in state.copy_data().tolist()])}\")\n",
    "    #print(len(input_state))\n",
    "    #logging.info(f'statee: {state}')\n",
    "    return list(reversed(path))"
   ]
  },
  {
   "cell_type": "markdown",
   "metadata": {},
   "source": [
    "# Breadth-first"
   ]
  },
  {
   "cell_type": "code",
   "execution_count": 40,
   "metadata": {},
   "outputs": [
    {
     "name": "stderr",
     "output_type": "stream",
     "text": [
      "INFO:root:N = 5 | Found a solution in 29 steps; visited 5 states, w = 5\n",
      "C:\\Users\\peppe\\AppData\\Local\\Temp\\ipykernel_12128\\4140527423.py:16: VisibleDeprecationWarning: Creating an ndarray from ragged nested sequences (which is a list-or-tuple of lists-or-tuples-or ndarrays with different lengths or shapes) is deprecated. If you meant to do this, you must specify 'dtype=object' when creating the ndarray.\n",
      "  return State(np.array(new_state))\n",
      "INFO:root:N = 10 | Found a solution in 56 steps; visited 7 states, w = 13\n",
      "INFO:root:N = 20 | Found a solution in 45 steps; visited 12 states, w = 46\n",
      "INFO:root:N = 50 | Found a solution in 227 steps; visited 15 states, w = 137\n",
      "INFO:root:N = 100 | Found a solution in 40 steps; visited 19 states, w = 332\n",
      "INFO:root:N = 500 | Found a solution in 1832 steps; visited 24 states, w = 2162\n",
      "INFO:root:N = 1000 | Found a solution in 3644 steps; visited 26 states, w = 4652\n"
     ]
    }
   ],
   "source": [
    "parent_state = dict()\n",
    "state_cost = dict()\n",
    "\n",
    "logging.getLogger().setLevel(logging.INFO)\n",
    "\n",
    "for n in [5,10,20,50,100,500,1000]:\n",
    "    input_state = sorted(problem(n, seed=42), key=lambda l: len(l))\n",
    "    initial_state = State(np.array([input_state[0]]))\n",
    "    search(\n",
    "        initial_state=initial_state,\n",
    "        goal_test=goal_test,\n",
    "        parent_state=parent_state,\n",
    "        state_cost=state_cost,\n",
    "        priority_function=lambda s: len(state_cost),\n",
    "        unit_cost=lambda a: len(a),\n",
    "        N=n\n",
    "    )"
   ]
  },
  {
   "cell_type": "markdown",
   "metadata": {},
   "source": [
    "# A*"
   ]
  },
  {
   "cell_type": "code",
   "execution_count": 42,
   "metadata": {},
   "outputs": [
    {
     "ename": "AttributeError",
     "evalue": "'list' object has no attribute '_data'",
     "output_type": "error",
     "traceback": [
      "\u001b[1;31m---------------------------------------------------------------------------\u001b[0m",
      "\u001b[1;31mAttributeError\u001b[0m                            Traceback (most recent call last)",
      "Cell \u001b[1;32mIn [42], line 11\u001b[0m\n\u001b[0;32m      9\u001b[0m input_state \u001b[39m=\u001b[39m \u001b[39msorted\u001b[39m(problem(n, seed\u001b[39m=\u001b[39m\u001b[39m42\u001b[39m), key\u001b[39m=\u001b[39m\u001b[39mlambda\u001b[39;00m l: \u001b[39mlen\u001b[39m(l))\n\u001b[0;32m     10\u001b[0m initial_state \u001b[39m=\u001b[39m State(np\u001b[39m.\u001b[39marray([input_state[\u001b[39m0\u001b[39m]]))\n\u001b[1;32m---> 11\u001b[0m search(\n\u001b[0;32m     12\u001b[0m     initial_state\u001b[39m=\u001b[39;49minitial_state,\n\u001b[0;32m     13\u001b[0m     goal_test\u001b[39m=\u001b[39;49mgoal_test,\n\u001b[0;32m     14\u001b[0m     parent_state\u001b[39m=\u001b[39;49mparent_state,\n\u001b[0;32m     15\u001b[0m     state_cost\u001b[39m=\u001b[39;49mstate_cost,\n\u001b[0;32m     16\u001b[0m     priority_function\u001b[39m=\u001b[39;49m\u001b[39mlambda\u001b[39;49;00m s: state_cost[s] \u001b[39m+\u001b[39;49m h(s),\n\u001b[0;32m     17\u001b[0m     unit_cost\u001b[39m=\u001b[39;49m\u001b[39mlambda\u001b[39;49;00m a: \u001b[39mlen\u001b[39;49m(a),\n\u001b[0;32m     18\u001b[0m     N\u001b[39m=\u001b[39;49mn\n\u001b[0;32m     19\u001b[0m )\n",
      "Cell \u001b[1;32mIn [38], line 37\u001b[0m, in \u001b[0;36msearch\u001b[1;34m(initial_state, goal_test, parent_state, state_cost, priority_function, unit_cost, N)\u001b[0m\n\u001b[0;32m     35\u001b[0m     parent_state[new_state] \u001b[39m=\u001b[39m state\n\u001b[0;32m     36\u001b[0m     state_cost[new_state] \u001b[39m=\u001b[39m state_cost[state] \u001b[39m+\u001b[39m cost\n\u001b[1;32m---> 37\u001b[0m     frontier\u001b[39m.\u001b[39mpush(new_state, p\u001b[39m=\u001b[39mpriority_function(new_state))\n\u001b[0;32m     38\u001b[0m     logging\u001b[39m.\u001b[39mdebug(\u001b[39mf\u001b[39m\u001b[39m\"\u001b[39m\u001b[39mAdded new node to frontier (cost=\u001b[39m\u001b[39m{\u001b[39;00mstate_cost[new_state]\u001b[39m}\u001b[39;00m\u001b[39m)\u001b[39m\u001b[39m\"\u001b[39m)\n\u001b[0;32m     39\u001b[0m \u001b[39melif\u001b[39;00m new_state \u001b[39min\u001b[39;00m frontier \u001b[39mand\u001b[39;00m state_cost[new_state] \u001b[39m>\u001b[39m state_cost[state] \u001b[39m+\u001b[39m cost:\n",
      "Cell \u001b[1;32mIn [42], line 16\u001b[0m, in \u001b[0;36m<lambda>\u001b[1;34m(s)\u001b[0m\n\u001b[0;32m      9\u001b[0m input_state \u001b[39m=\u001b[39m \u001b[39msorted\u001b[39m(problem(n, seed\u001b[39m=\u001b[39m\u001b[39m42\u001b[39m), key\u001b[39m=\u001b[39m\u001b[39mlambda\u001b[39;00m l: \u001b[39mlen\u001b[39m(l))\n\u001b[0;32m     10\u001b[0m initial_state \u001b[39m=\u001b[39m State(np\u001b[39m.\u001b[39marray([input_state[\u001b[39m0\u001b[39m]]))\n\u001b[0;32m     11\u001b[0m search(\n\u001b[0;32m     12\u001b[0m     initial_state\u001b[39m=\u001b[39minitial_state,\n\u001b[0;32m     13\u001b[0m     goal_test\u001b[39m=\u001b[39mgoal_test,\n\u001b[0;32m     14\u001b[0m     parent_state\u001b[39m=\u001b[39mparent_state,\n\u001b[0;32m     15\u001b[0m     state_cost\u001b[39m=\u001b[39mstate_cost,\n\u001b[1;32m---> 16\u001b[0m     priority_function\u001b[39m=\u001b[39m\u001b[39mlambda\u001b[39;00m s: state_cost[s] \u001b[39m+\u001b[39m h(s),\n\u001b[0;32m     17\u001b[0m     unit_cost\u001b[39m=\u001b[39m\u001b[39mlambda\u001b[39;00m a: \u001b[39mlen\u001b[39m(a),\n\u001b[0;32m     18\u001b[0m     N\u001b[39m=\u001b[39mn\n\u001b[0;32m     19\u001b[0m )\n",
      "Cell \u001b[1;32mIn [42], line 6\u001b[0m, in \u001b[0;36mh\u001b[1;34m(state)\u001b[0m\n\u001b[0;32m      5\u001b[0m \u001b[39mdef\u001b[39;00m \u001b[39mh\u001b[39m(state):\n\u001b[1;32m----> 6\u001b[0m     \u001b[39mreturn\u001b[39;00m np\u001b[39m.\u001b[39msum((state\u001b[39m.\u001b[39m_data \u001b[39m!=\u001b[39m GOAL\u001b[39m.\u001b[39;49m_data) \u001b[39m&\u001b[39m (state\u001b[39m.\u001b[39m_data \u001b[39m>\u001b[39m \u001b[39m0\u001b[39m))\n",
      "\u001b[1;31mAttributeError\u001b[0m: 'list' object has no attribute '_data'"
     ]
    }
   ],
   "source": [
    "parent_state = dict()\n",
    "state_cost = dict()\n",
    "\n",
    "\n",
    "def h(state):\n",
    "    return np.sum((state._data != GOAL._data) & (state._data > 0))\n",
    "\n",
    "for n in [5,10,20,50,100,500,1000]:\n",
    "    input_state = sorted(problem(n, seed=42), key=lambda l: len(l))\n",
    "    initial_state = State(np.array([input_state[0]]))\n",
    "    search(\n",
    "        initial_state=initial_state,\n",
    "        goal_test=goal_test,\n",
    "        parent_state=parent_state,\n",
    "        state_cost=state_cost,\n",
    "        priority_function=lambda s: state_cost[s] + h(s),\n",
    "        unit_cost=lambda a: len(a),\n",
    "        N=n\n",
    "    )"
   ]
  }
 ],
 "metadata": {
  "kernelspec": {
   "display_name": "Python 3.10.4 64-bit",
   "language": "python",
   "name": "python3"
  },
  "language_info": {
   "codemirror_mode": {
    "name": "ipython",
    "version": 3
   },
   "file_extension": ".py",
   "mimetype": "text/x-python",
   "name": "python",
   "nbconvert_exporter": "python",
   "pygments_lexer": "ipython3",
   "version": "3.10.4"
  },
  "orig_nbformat": 4,
  "vscode": {
   "interpreter": {
    "hash": "d2ef8134e8e0f539bb7fdc465feafd0bf4d5b2799f2ddaf036ce3b58abafc971"
   }
  }
 },
 "nbformat": 4,
 "nbformat_minor": 2
}
