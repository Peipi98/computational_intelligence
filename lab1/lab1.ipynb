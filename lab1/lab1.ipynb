{
 "cells": [
  {
   "cell_type": "code",
   "execution_count": 12,
   "metadata": {},
   "outputs": [],
   "source": [
    "import random"
   ]
  },
  {
   "cell_type": "code",
   "execution_count": 13,
   "metadata": {},
   "outputs": [],
   "source": [
    "def problem(N, seed=None):\n",
    "    random.seed(seed)\n",
    "    return [\n",
    "        list(set(random.randint(0, N - 1) for n in range(random.randint(N // 5, N // 2))))\n",
    "        for n in range(random.randint(N, N * 5))\n",
    "    ]"
   ]
  },
  {
   "cell_type": "code",
   "execution_count": 14,
   "metadata": {},
   "outputs": [],
   "source": [
    "import numpy as np"
   ]
  },
  {
   "cell_type": "code",
   "execution_count": 15,
   "metadata": {},
   "outputs": [],
   "source": [
    "from gx_utils import *"
   ]
  },
  {
   "cell_type": "code",
   "execution_count": 16,
   "metadata": {},
   "outputs": [],
   "source": [
    "import logging\n",
    "from random import seed, choice\n",
    "from typing import Callable\n",
    "\n",
    "logging.basicConfig(format=\"%(message)s\", level=logging.INFO)"
   ]
  },
  {
   "cell_type": "code",
   "execution_count": 17,
   "metadata": {},
   "outputs": [],
   "source": [
    "class State:\n",
    "    def __init__(self, data: np.ndarray):\n",
    "        self._data = data.copy()\n",
    "        self._data.flags.writeable = False\n",
    "\n",
    "    def __hash__(self):\n",
    "        return hash(bytes(self._data))\n",
    "\n",
    "    def __eq__(self, other):\n",
    "        return bytes(self._data) == bytes(other._data)\n",
    "\n",
    "    def __lt__(self, other):\n",
    "        return bytes(self._data) < bytes(other._data)\n",
    "\n",
    "    def __str__(self):\n",
    "        return str(self._data)\n",
    "\n",
    "    def __repr__(self):\n",
    "        return repr(self._data)\n",
    "\n",
    "    @property\n",
    "    def data(self):\n",
    "        return self._data\n",
    "\n",
    "    def copy_data(self):\n",
    "        return self._data.copy()\n",
    "    \n",
    "    def hash_data(self):\n",
    "        return hash(tuple(tuple(x) for x in a.copy_data().tolist()))"
   ]
  },
  {
   "cell_type": "code",
   "execution_count": 41,
   "metadata": {},
   "outputs": [],
   "source": [
    "#return a new_state if elem contains element different from state\n",
    "import copy\n",
    "def result(state, elem):\n",
    "    '''\n",
    "    new_state = []\n",
    "    [new_state.append(e) for e in state.copy_data().tolist()]\n",
    "    new_state.append(elem)\n",
    "    new_state = sorted(new_state, key=lambda l: len(l))\n",
    "    '''\n",
    "    new_state = state._data | set(elem)\n",
    "    return State(np.array(new_state))\n",
    "\n",
    "def is_valid(state, elem):\n",
    "    '''\n",
    "    covered = copy.deepcopy(state)\n",
    "    for e in state.copy_data():\n",
    "        [covered.add(i) for i in e]\n",
    "    old_covered = covered.copy()\n",
    "    covered |= set(elem) \n",
    "    '''\n",
    "    if set(elem) < state._data:\n",
    "        return False\n",
    "    else: \n",
    "        return True\n",
    "    \n",
    "\n",
    "def goal_test(state, goal):\n",
    "    '''    \n",
    "    state_set = set()\n",
    "    test = state.copy_data().tolist()\n",
    "    for e in test:\n",
    "        [state_set.add(i) for i in e]\n",
    "    state_set = sorted(list(state_set))\n",
    "    '''\n",
    "    return state == goal\n",
    "    \n",
    "def possible_actions(state: State):\n",
    "    #return [item for item in universe if item not in state.copy_data().tolist()]\n",
    "    return [tuple(item) for item in input_state if is_valid(state, item)]"
   ]
  },
  {
   "cell_type": "code",
   "execution_count": 52,
   "metadata": {},
   "outputs": [],
   "source": [
    "def search(\n",
    "    goal_test: Callable,\n",
    "    parent_state: dict,\n",
    "    state_cost: dict,\n",
    "    priority_function: Callable,\n",
    "    unit_cost: Callable,\n",
    "    N: int\n",
    "):\n",
    "    frontier = PriorityQueue()\n",
    "    parent_state.clear()\n",
    "    state_cost.clear()\n",
    "\n",
    "    state = State(np.array(set()))\n",
    "    parent_state[state] = None\n",
    "    state_cost[state] = 0\n",
    "    \n",
    "    goal_array = State(np.array(set(range(N))))\n",
    "    nodes = 0\n",
    "    while state is not None and not goal_test(state, goal_array):\n",
    "        for a in possible_actions(state):\n",
    "            new_state = result(state, a)\n",
    "            cost = unit_cost(a)\n",
    "\n",
    "            if new_state not in state_cost and new_state not in frontier:\n",
    "                parent_state[new_state] = state\n",
    "                state_cost[new_state] = state_cost[state] + cost\n",
    "                print(f'state: {state}, new_state: {new_state}')\n",
    "                print(f'new_state len: {len(new_state.copy_data())}')\n",
    "                frontier.push(new_state, p=priority_function(new_state.copy_data()))\n",
    "                logging.debug(f\"Added new node to frontier (cost={state_cost[new_state]})\")\n",
    "            elif new_state in frontier and state_cost[new_state] > state_cost[state] + cost:\n",
    "                old_cost = state_cost[new_state]\n",
    "                parent_state[new_state] = state\n",
    "                state_cost[new_state] = state_cost[state] + cost\n",
    "                logging.debug(f\"Updated node cost in frontier: {old_cost} -> {state_cost[new_state]}\")\n",
    "        if frontier:\n",
    "            state = frontier.pop()\n",
    "            nodes += 1\n",
    "        else:\n",
    "            state = None\n",
    "\n",
    "    path = list()\n",
    "    s = state\n",
    "    while s:\n",
    "        path.append(s.copy_data())\n",
    "        s = parent_state[s]\n",
    "\n",
    "    logging.info(f\"N = {N} | Found a solution in {len(path):,} steps; visited {len(state_cost):,} states, nodes: {nodes}, w = {sum(len(x) for x in path[0])}\")\n",
    "    return list(reversed(path))"
   ]
  },
  {
   "cell_type": "markdown",
   "metadata": {},
   "source": [
    "# Breadth-first"
   ]
  },
  {
   "cell_type": "code",
   "execution_count": 53,
   "metadata": {},
   "outputs": [
    {
     "name": "stdout",
     "output_type": "stream",
     "text": [
      "[(2,), (4,), (1,), (0,), (3,), (0, 1), (1, 3), (2, 4), (2, 3), (0, 2)]\n",
      "new_state: {2}\n"
     ]
    },
    {
     "ename": "TypeError",
     "evalue": "len() of unsized object",
     "output_type": "error",
     "traceback": [
      "\u001b[1;31m---------------------------------------------------------------------------\u001b[0m",
      "\u001b[1;31mTypeError\u001b[0m                                 Traceback (most recent call last)",
      "Cell \u001b[1;32mIn [53], line 11\u001b[0m\n\u001b[0;32m      9\u001b[0m input_state \u001b[39m=\u001b[39m \u001b[39msorted\u001b[39m(\u001b[39mset\u001b[39m(\u001b[39mtuple\u001b[39m(\u001b[39msorted\u001b[39m(x)) \u001b[39mfor\u001b[39;00m x \u001b[39min\u001b[39;00m input_state), key\u001b[39m=\u001b[39m\u001b[39mlambda\u001b[39;00m l: \u001b[39mlen\u001b[39m(l))\n\u001b[0;32m     10\u001b[0m \u001b[39mprint\u001b[39m(input_state)\n\u001b[1;32m---> 11\u001b[0m final \u001b[39m=\u001b[39m search(\n\u001b[0;32m     12\u001b[0m     goal_test\u001b[39m=\u001b[39;49mgoal_test,\n\u001b[0;32m     13\u001b[0m     parent_state\u001b[39m=\u001b[39;49mparent_state,\n\u001b[0;32m     14\u001b[0m     state_cost\u001b[39m=\u001b[39;49mstate_cost,\n\u001b[0;32m     15\u001b[0m     priority_function\u001b[39m=\u001b[39;49m\u001b[39mlambda\u001b[39;49;00m s: \u001b[39mlen\u001b[39;49m(s),\n\u001b[0;32m     16\u001b[0m     unit_cost\u001b[39m=\u001b[39;49m\u001b[39mlambda\u001b[39;49;00m a: \u001b[39m1\u001b[39;49m,\n\u001b[0;32m     17\u001b[0m     N\u001b[39m=\u001b[39;49mn\n\u001b[0;32m     18\u001b[0m )\n",
      "Cell \u001b[1;32mIn [52], line 28\u001b[0m, in \u001b[0;36msearch\u001b[1;34m(goal_test, parent_state, state_cost, priority_function, unit_cost, N)\u001b[0m\n\u001b[0;32m     26\u001b[0m state_cost[new_state] \u001b[39m=\u001b[39m state_cost[state] \u001b[39m+\u001b[39m cost\n\u001b[0;32m     27\u001b[0m \u001b[39mprint\u001b[39m(\u001b[39mf\u001b[39m\u001b[39m'\u001b[39m\u001b[39mnew_state: \u001b[39m\u001b[39m{\u001b[39;00mnew_state\u001b[39m}\u001b[39;00m\u001b[39m'\u001b[39m)\n\u001b[1;32m---> 28\u001b[0m \u001b[39mprint\u001b[39m(\u001b[39mf\u001b[39m\u001b[39m'\u001b[39m\u001b[39mnew_state len: \u001b[39m\u001b[39m{\u001b[39;00m\u001b[39mlen\u001b[39m(new_state\u001b[39m.\u001b[39mcopy_data())\u001b[39m}\u001b[39;00m\u001b[39m'\u001b[39m)\n\u001b[0;32m     29\u001b[0m frontier\u001b[39m.\u001b[39mpush(new_state, p\u001b[39m=\u001b[39mpriority_function(new_state\u001b[39m.\u001b[39mcopy_data()))\n\u001b[0;32m     30\u001b[0m logging\u001b[39m.\u001b[39mdebug(\u001b[39mf\u001b[39m\u001b[39m\"\u001b[39m\u001b[39mAdded new node to frontier (cost=\u001b[39m\u001b[39m{\u001b[39;00mstate_cost[new_state]\u001b[39m}\u001b[39;00m\u001b[39m)\u001b[39m\u001b[39m\"\u001b[39m)\n",
      "\u001b[1;31mTypeError\u001b[0m: len() of unsized object"
     ]
    }
   ],
   "source": [
    "parent_state = dict()\n",
    "state_cost = dict()\n",
    "\n",
    "logging.getLogger().setLevel(logging.INFO)\n",
    "''',10,20,50,100,500,1000'''\n",
    "final = []\n",
    "for n in [5]:\n",
    "    input_state = sorted(problem(n, seed=42), key=lambda l: len(l))\n",
    "    input_state = sorted(set(tuple(sorted(x)) for x in input_state), key=lambda l: len(l))\n",
    "    print(input_state)\n",
    "    final = search(\n",
    "        goal_test=goal_test,\n",
    "        parent_state=parent_state,\n",
    "        state_cost=state_cost,\n",
    "        priority_function=lambda s: len(s),\n",
    "        unit_cost=lambda a: 1,\n",
    "        N=n\n",
    "    )"
   ]
  },
  {
   "cell_type": "code",
   "execution_count": 38,
   "metadata": {},
   "outputs": [
    {
     "data": {
      "text/plain": [
       "10"
      ]
     },
     "execution_count": 38,
     "metadata": {},
     "output_type": "execute_result"
    }
   ],
   "source": [
    "len([set(x) for x in input_state])"
   ]
  }
 ],
 "metadata": {
  "kernelspec": {
   "display_name": "Python 3.10.4 64-bit",
   "language": "python",
   "name": "python3"
  },
  "language_info": {
   "codemirror_mode": {
    "name": "ipython",
    "version": 3
   },
   "file_extension": ".py",
   "mimetype": "text/x-python",
   "name": "python",
   "nbconvert_exporter": "python",
   "pygments_lexer": "ipython3",
   "version": "3.10.4"
  },
  "orig_nbformat": 4,
  "vscode": {
   "interpreter": {
    "hash": "d2ef8134e8e0f539bb7fdc465feafd0bf4d5b2799f2ddaf036ce3b58abafc971"
   }
  }
 },
 "nbformat": 4,
 "nbformat_minor": 2
}
