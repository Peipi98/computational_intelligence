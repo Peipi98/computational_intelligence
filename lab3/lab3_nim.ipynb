{
 "cells": [
  {
   "cell_type": "markdown",
   "metadata": {
    "collapsed": false,
    "pycharm": {
     "name": "#%% md\n"
    }
   },
   "source": [
    "# Lab 3: Policy Search\n",
    "\n",
    "## Task\n",
    "\n",
    "Write agents able to play [*Nim*](https://en.wikipedia.org/wiki/Nim), with an arbitrary number of rows and an upper bound $k$ on the number of objects that can be removed in a turn (a.k.a., *subtraction game*).\n",
    "\n",
    "The player **taking the last object wins**.\n",
    "\n",
    "* Task3.1: An agent using fixed rules based on *nim-sum* (i.e., an *expert system*)\n",
    "* Task3.2: An agent using evolved rules\n",
    "* Task3.3: An agent using minmax\n",
    "* Task3.4: An agent using reinforcement learning\n",
    "\n",
    "## Instructions\n",
    "\n",
    "* Create the directory `lab3` inside the course repo \n",
    "* Put a `README.md` and your solution (all the files, code and auxiliary data if needed)"
   ]
  },
  {
   "cell_type": "code",
   "execution_count": 17,
   "metadata": {
    "collapsed": false,
    "pycharm": {
     "name": "#%%\n"
    }
   },
   "outputs": [
    {
     "name": "stdout",
     "output_type": "stream",
     "text": [
      "The autoreload extension is already loaded. To reload it, use:\n",
      "  %reload_ext autoreload\n"
     ]
    }
   ],
   "source": [
    "%load_ext autoreload\n",
    "%autoreload 2\n",
    "\n",
    "from task1_lib import gabriele, pure_random, fixed_rules_strategy\n",
    "from task2_lib import run_GA, strategy_0, strategy_1, strategy_2\n",
    "from task4_lib import task4_run\n",
    "from nim_utils import evaluate, evaluate_GA, play_match"
   ]
  },
  {
   "cell_type": "markdown",
   "metadata": {
    "collapsed": false,
    "pycharm": {
     "name": "#%% md\n"
    }
   },
   "source": [
    "# Task 1"
   ]
  },
  {
   "cell_type": "code",
   "execution_count": 2,
   "metadata": {
    "collapsed": false,
    "pycharm": {
     "name": "#%%\n"
    }
   },
   "outputs": [
    {
     "name": "stdout",
     "output_type": "stream",
     "text": [
      "Win-rate against gabriele: 1.0\n",
      "Win-rate against pure_random: 0.92\n"
     ]
    }
   ],
   "source": [
    "NUM_MATCHES = 100\n",
    "NIM_SIZE = 10\n",
    "K_SIZE = None\n",
    "\n",
    "print(f\"Win-rate against {gabriele.__name__}: {evaluate(fixed_rules_strategy, gabriele, NUM_MATCHES, NIM_SIZE, k_size=K_SIZE)}\")\n",
    "print(f\"Win-rate against {pure_random.__name__}: {evaluate(fixed_rules_strategy, pure_random, NUM_MATCHES, NIM_SIZE, k_size=K_SIZE)}\")\n"
   ]
  },
  {
   "cell_type": "markdown",
   "metadata": {
    "collapsed": false,
    "pycharm": {
     "name": "#%% md\n"
    }
   },
   "source": [
    "# Task 2"
   ]
  },
  {
   "cell_type": "code",
   "execution_count": 68,
   "metadata": {
    "collapsed": false,
    "pycharm": {
     "name": "#%%\n"
    }
   },
   "outputs": [
    {
     "name": "stdout",
     "output_type": "stream",
     "text": [
      "[info] - Strategy 0 results...\n",
      "[info] - Start generating the population\n"
     ]
    },
    {
     "name": "stderr",
     "output_type": "stream",
     "text": [
      "100%|██████████| 50/50 [00:03<00:00, 15.22it/s]\n"
     ]
    },
    {
     "name": "stdout",
     "output_type": "stream",
     "text": [
      "[info] - Evolving...\n"
     ]
    },
    {
     "name": "stderr",
     "output_type": "stream",
     "text": [
      "100%|██████████| 150/150 [03:55<00:00,  1.57s/it]\n"
     ]
    },
    {
     "name": "stdout",
     "output_type": "stream",
     "text": [
      "[info] - Best genome found is {'alpha': 0.011386665687883157, 'beta': 0.9062171717087414, 'gamma': 0.9873926707644166} with fitness: (0.95, 0.6)\n",
      "Win-rate against gabriele: 0.88\n",
      "Win-rate against pure_random: 0.52\n",
      "[info] - Strategy 1 results...\n",
      "[info] - Start generating the population\n"
     ]
    },
    {
     "name": "stderr",
     "output_type": "stream",
     "text": [
      "100%|██████████| 50/50 [00:02<00:00, 23.87it/s]\n"
     ]
    },
    {
     "name": "stdout",
     "output_type": "stream",
     "text": [
      "[info] - Evolving...\n"
     ]
    },
    {
     "name": "stderr",
     "output_type": "stream",
     "text": [
      "100%|██████████| 30/30 [00:25<00:00,  1.17it/s]\n"
     ]
    },
    {
     "name": "stdout",
     "output_type": "stream",
     "text": [
      "[info] - Best genome found is {'alpha': 0.8522898164482559, 'beta': 0.2373071439533727} with fitness: (1.0, 0.99)\n",
      "Win-rate against gabriele: 1.0\n",
      "Win-rate against pure_random: 0.86\n",
      "[info] - Strategy 2 results...\n",
      "[info] - Start generating the population\n"
     ]
    },
    {
     "name": "stderr",
     "output_type": "stream",
     "text": [
      "100%|██████████| 50/50 [00:13<00:00,  3.79it/s]\n"
     ]
    },
    {
     "name": "stdout",
     "output_type": "stream",
     "text": [
      "[info] - Evolving...\n"
     ]
    },
    {
     "name": "stderr",
     "output_type": "stream",
     "text": [
      "100%|██████████| 30/30 [03:23<00:00,  6.79s/it]\n"
     ]
    },
    {
     "name": "stdout",
     "output_type": "stream",
     "text": [
      "[info] - Best genome found is {'alpha': 0.012787059560542713, 'beta': 0.09369813057952592, 'gamma': 0.9237723033079731, 'percentage': 0.3821294817321689} with fitness: 0.995\n",
      "Win-rate against gabriele: 0.98\n",
      "Win-rate against pure_random: 0.95\n"
     ]
    }
   ],
   "source": [
    "# Strategy 0\n",
    "print(f\"[info] - Strategy 0 results...\")\n",
    "genome_parameters = [\"alpha\", \"beta\", \"gamma\"]\n",
    "num_generations = 150\n",
    "best_genome = run_GA(genome_parameters, strategy_0, num_generations)\n",
    "\n",
    "print(f\"Win-rate against gabriele: {evaluate_GA(best_genome, strategy_0, gabriele, NUM_MATCHES, NIM_SIZE, k_size=K_SIZE)}\")\n",
    "print(f\"Win-rate against pure_random: {evaluate_GA(best_genome, strategy_0, pure_random, NUM_MATCHES, NIM_SIZE, k_size=K_SIZE)}\")\n",
    "\n",
    "\n",
    "# Strategy 1\n",
    "print(f\"[info] - Strategy 1 results...\")\n",
    "genome_parameters = [\"alpha\", \"beta\"]\n",
    "num_generations = 30\n",
    "best_genome = run_GA(genome_parameters, strategy_1, num_generations)\n",
    "\n",
    "print(f\"Win-rate against gabriele: {evaluate_GA(best_genome, strategy_1, gabriele, NUM_MATCHES, NIM_SIZE, k_size=K_SIZE)}\")\n",
    "print(f\"Win-rate against pure_random: {evaluate_GA(best_genome, strategy_1, pure_random, NUM_MATCHES, NIM_SIZE, k_size=K_SIZE)}\")\n",
    "\n",
    "\n",
    "# Strategy 2\n",
    "print(f\"[info] - Strategy 2 results...\")\n",
    "genome_parameters = [\"alpha\", \"beta\", \"gamma\", \"percentage\"]\n",
    "num_generations = 30\n",
    "best_genome = run_GA(genome_parameters, strategy_2, num_generations)\n",
    "\n",
    "print(f\"Win-rate against gabriele: {evaluate_GA(best_genome, strategy_2, gabriele, NUM_MATCHES, NIM_SIZE, k_size=K_SIZE)}\")\n",
    "print(f\"Win-rate against pure_random: {evaluate_GA(best_genome, strategy_2, pure_random, NUM_MATCHES, NIM_SIZE, k_size=K_SIZE)}\")"
   ]
  },
  {
   "cell_type": "code",
   "execution_count": 69,
   "metadata": {
    "collapsed": false,
    "pycharm": {
     "name": "#%%\n"
    }
   },
   "outputs": [],
   "source": [
    "import random\n",
    "from nimply import Nim\n",
    "\n",
    "\n",
    "def challenge(genome0, strategy_0, genome1, strategy_1, num_matches=100, nim_size=10, k_size=None):\n",
    "    won = 0\n",
    "\n",
    "    for m in range(num_matches):\n",
    "        nim = Nim(nim_size, k=k_size)\n",
    "        player = random.randint(0, 1)\n",
    "        while nim:\n",
    "            if player == 0:\n",
    "                ply = strategy_0(nim, genome0)\n",
    "            else:\n",
    "                ply = strategy_1(nim, genome1)\n",
    "            nim.nimming(ply)\n",
    "            player = 1 - player\n",
    "        if player == 1:\n",
    "            won += 1\n",
    "    return won / num_matches\n",
    "\n",
    "genome0 = {'alpha': 0.33806644070961167, 'beta': 0.8983983212868427, 'gamma': 0.9974669535320325}\n",
    "genome1 = {'alpha': 0.8191618758747532, 'beta': 0.10484407005864857}\n",
    "\n",
    "challenge(genome0, strategy_0, genome1, strategy_1)"
   ]
  },
  {
   "cell_type": "markdown",
   "metadata": {
    "collapsed": false,
    "pycharm": {
     "name": "#%% md\n"
    }
   },
   "source": [
    "# Task 3"
   ]
  },
  {
   "cell_type": "markdown",
   "metadata": {
    "collapsed": false,
    "pycharm": {
     "name": "#%% md\n"
    }
   },
   "source": [
    "# Task 4"
   ]
  },
  {
   "cell_type": "code",
   "execution_count": 18,
   "metadata": {},
   "outputs": [
    {
     "name": "stdout",
     "output_type": "stream",
     "text": [
      "0: 0/50\n",
      "50: 30/50\n",
      "100: 22/50\n",
      "150: 23/50\n",
      "200: 25/50\n",
      "250: 31/50\n",
      "300: 22/50\n",
      "350: 28/50\n",
      "400: 26/50\n",
      "450: 24/50\n",
      "500: 20/50\n",
      "550: 27/50\n",
      "600: 23/50\n",
      "650: 25/50\n",
      "700: 24/50\n",
      "750: 22/50\n",
      "800: 29/50\n",
      "850: 24/50\n",
      "900: 26/50\n",
      "950: 25/50\n",
      "1000: 22/50\n",
      "1050: 26/50\n",
      "1100: 25/50\n",
      "1150: 21/50\n",
      "1200: 25/50\n",
      "1250: 29/50\n",
      "1300: 26/50\n",
      "1350: 16/50\n",
      "1400: 26/50\n",
      "1450: 22/50\n",
      "1500: 28/50\n",
      "1550: 20/50\n",
      "1600: 26/50\n",
      "1650: 30/50\n",
      "1700: 30/50\n",
      "1750: 26/50\n",
      "1800: 23/50\n",
      "1850: 21/50\n",
      "1900: 27/50\n",
      "1950: 22/50\n",
      "2000: 24/50\n",
      "2050: 30/50\n",
      "2100: 25/50\n",
      "2150: 32/50\n",
      "2200: 29/50\n",
      "2250: 27/50\n",
      "2300: 22/50\n",
      "2350: 21/50\n",
      "2400: 28/50\n",
      "2450: 28/50\n",
      "2500: 28/50\n",
      "2550: 27/50\n",
      "2600: 25/50\n",
      "2650: 32/50\n",
      "2700: 26/50\n",
      "2750: 24/50\n",
      "2800: 32/50\n",
      "2850: 27/50\n",
      "2900: 27/50\n",
      "2950: 19/50\n",
      "3000: 27/50\n",
      "3050: 25/50\n",
      "3100: 25/50\n",
      "3150: 22/50\n",
      "3200: 26/50\n",
      "3250: 24/50\n",
      "3300: 19/50\n",
      "3350: 25/50\n",
      "3400: 24/50\n",
      "3450: 25/50\n",
      "3500: 22/50\n",
      "3550: 23/50\n",
      "3600: 27/50\n",
      "3650: 27/50\n",
      "3700: 26/50\n",
      "3750: 23/50\n",
      "3800: 22/50\n",
      "3850: 31/50\n",
      "3900: 23/50\n",
      "3950: 23/50\n",
      "4000: 21/50\n",
      "4050: 21/50\n",
      "4100: 22/50\n",
      "4150: 28/50\n",
      "4200: 24/50\n",
      "4250: 23/50\n",
      "4300: 27/50\n",
      "4350: 21/50\n",
      "4400: 28/50\n",
      "4450: 26/50\n",
      "4500: 23/50\n",
      "4550: 32/50\n",
      "4600: 25/50\n",
      "4650: 22/50\n",
      "4700: 24/50\n",
      "4750: 23/50\n",
      "4800: 22/50\n",
      "4850: 22/50\n",
      "4900: 26/50\n",
      "4950: 27/50\n"
     ]
    },
    {
     "data": {
      "image/png": "[encoded data removed]",
      "text/plain": [
       "<Figure size 640x480 with 1 Axes>"
      ]
     },
     "metadata": {},
     "output_type": "display_data"
    }
   ],
   "source": [
    "task4_run()"
   ]
  },
  {
   "cell_type": "markdown",
   "metadata": {
    "collapsed": false,
    "pycharm": {
     "name": "#%% md\n"
    }
   },
   "source": [
    "## Oversimplified match"
   ]
  },
  {
   "cell_type": "code",
   "execution_count": 70,
   "metadata": {
    "collapsed": false,
    "pycharm": {
     "name": "#%%\n"
    }
   },
   "outputs": [],
   "source": [
    "play_match(fixed_rules_strategy, pure_random, 10, k_size=None)"
   ]
  }
 ],
 "metadata": {
  "kernelspec": {
   "display_name": ".venv",
   "language": "python",
   "name": "python3"
  },
  "language_info": {
   "codemirror_mode": {
    "name": "ipython",
    "version": 3
   },
   "file_extension": ".py",
   "mimetype": "text/x-python",
   "name": "python",
   "nbconvert_exporter": "python",
   "pygments_lexer": "ipython3",
   "version": "3.9.7"
  },
  "vscode": {
   "interpreter": {
    "hash": "f631067852a82f1a24b8747ec084d7709b52fc0746b207c7dab641db84749462"
   }
  }
 },
 "nbformat": 4,
 "nbformat_minor": 2
}
