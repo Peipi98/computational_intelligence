{
 "cells": [
  {
   "cell_type": "markdown",
   "metadata": {
    "collapsed": false,
    "pycharm": {
     "name": "#%% md\n"
    }
   },
   "source": [
    "# Lab 3: Policy Search\n",
    "\n",
    "## Task\n",
    "\n",
    "Write agents able to play [*Nim*](https://en.wikipedia.org/wiki/Nim), with an arbitrary number of rows and an upper bound $k$ on the number of objects that can be removed in a turn (a.k.a., *subtraction game*).\n",
    "\n",
    "The player **taking the last object wins**.\n",
    "\n",
    "* Task3.1: An agent using fixed rules based on *nim-sum* (i.e., an *expert system*)\n",
    "* Task3.2: An agent using evolved rules\n",
    "* Task3.3: An agent using minmax\n",
    "* Task3.4: An agent using reinforcement learning\n",
    "\n",
    "## Instructions\n",
    "\n",
    "* Create the directory `lab3` inside the course repo \n",
    "* Put a `README.md` and your solution (all the files, code and auxiliary data if needed)"
   ]
  },
  {
   "cell_type": "code",
   "execution_count": 1,
   "metadata": {
    "collapsed": false,
    "pycharm": {
     "name": "#%%\n"
    }
   },
   "outputs": [],
   "source": [
    "%load_ext autoreload\n",
    "%autoreload 2\n",
    "\n",
    "from task1_lib import gabriele, pure_random, fixed_rules_strategy\n",
    "from task2_lib import run_GA, strategy_0, strategy_1, strategy_2\n",
    "from task4_lib import task4_run, task4_Q, task4_Q_optimal\n",
    "from nim_utils import evaluate, evaluate_GA, play_match"
   ]
  },
  {
   "cell_type": "markdown",
   "metadata": {
    "collapsed": false,
    "pycharm": {
     "name": "#%% md\n"
    }
   },
   "source": [
    "# Task 1"
   ]
  },
  {
   "cell_type": "code",
   "execution_count": 2,
   "metadata": {
    "collapsed": false,
    "pycharm": {
     "name": "#%%\n"
    }
   },
   "outputs": [
    {
     "name": "stdout",
     "output_type": "stream",
     "text": [
      "Win-rate against gabriele: 1.0\n",
      "Win-rate against pure_random: 0.92\n"
     ]
    }
   ],
   "source": [
    "NUM_MATCHES = 100\n",
    "NIM_SIZE = 10\n",
    "K_SIZE = None\n",
    "\n",
    "print(f\"Win-rate against {gabriele.__name__}: {evaluate(fixed_rules_strategy, gabriele, NUM_MATCHES, NIM_SIZE, k_size=K_SIZE)}\")\n",
    "print(f\"Win-rate against {pure_random.__name__}: {evaluate(fixed_rules_strategy, pure_random, NUM_MATCHES, NIM_SIZE, k_size=K_SIZE)}\")\n"
   ]
  },
  {
   "cell_type": "markdown",
   "metadata": {
    "collapsed": false,
    "pycharm": {
     "name": "#%% md\n"
    }
   },
   "source": [
    "# Task 2"
   ]
  },
  {
   "cell_type": "code",
   "execution_count": 68,
   "metadata": {
    "collapsed": false,
    "pycharm": {
     "name": "#%%\n"
    }
   },
   "outputs": [
    {
     "name": "stdout",
     "output_type": "stream",
     "text": [
      "[info] - Strategy 0 results...\n",
      "[info] - Start generating the population\n"
     ]
    },
    {
     "name": "stderr",
     "output_type": "stream",
     "text": [
      "100%|██████████| 50/50 [00:03<00:00, 15.22it/s]\n"
     ]
    },
    {
     "name": "stdout",
     "output_type": "stream",
     "text": [
      "[info] - Evolving...\n"
     ]
    },
    {
     "name": "stderr",
     "output_type": "stream",
     "text": [
      "100%|██████████| 150/150 [03:55<00:00,  1.57s/it]\n"
     ]
    },
    {
     "name": "stdout",
     "output_type": "stream",
     "text": [
      "[info] - Best genome found is {'alpha': 0.011386665687883157, 'beta': 0.9062171717087414, 'gamma': 0.9873926707644166} with fitness: (0.95, 0.6)\n",
      "Win-rate against gabriele: 0.88\n",
      "Win-rate against pure_random: 0.52\n",
      "[info] - Strategy 1 results...\n",
      "[info] - Start generating the population\n"
     ]
    },
    {
     "name": "stderr",
     "output_type": "stream",
     "text": [
      "100%|██████████| 50/50 [00:02<00:00, 23.87it/s]\n"
     ]
    },
    {
     "name": "stdout",
     "output_type": "stream",
     "text": [
      "[info] - Evolving...\n"
     ]
    },
    {
     "name": "stderr",
     "output_type": "stream",
     "text": [
      "100%|██████████| 30/30 [00:25<00:00,  1.17it/s]\n"
     ]
    },
    {
     "name": "stdout",
     "output_type": "stream",
     "text": [
      "[info] - Best genome found is {'alpha': 0.8522898164482559, 'beta': 0.2373071439533727} with fitness: (1.0, 0.99)\n",
      "Win-rate against gabriele: 1.0\n",
      "Win-rate against pure_random: 0.86\n",
      "[info] - Strategy 2 results...\n",
      "[info] - Start generating the population\n"
     ]
    },
    {
     "name": "stderr",
     "output_type": "stream",
     "text": [
      "100%|██████████| 50/50 [00:13<00:00,  3.79it/s]\n"
     ]
    },
    {
     "name": "stdout",
     "output_type": "stream",
     "text": [
      "[info] - Evolving...\n"
     ]
    },
    {
     "name": "stderr",
     "output_type": "stream",
     "text": [
      "100%|██████████| 30/30 [03:23<00:00,  6.79s/it]\n"
     ]
    },
    {
     "name": "stdout",
     "output_type": "stream",
     "text": [
      "[info] - Best genome found is {'alpha': 0.012787059560542713, 'beta': 0.09369813057952592, 'gamma': 0.9237723033079731, 'percentage': 0.3821294817321689} with fitness: 0.995\n",
      "Win-rate against gabriele: 0.98\n",
      "Win-rate against pure_random: 0.95\n"
     ]
    }
   ],
   "source": [
    "# Strategy 0\n",
    "print(f\"[info] - Strategy 0 results...\")\n",
    "genome_parameters = [\"alpha\", \"beta\", \"gamma\"]\n",
    "num_generations = 150\n",
    "best_genome = run_GA(genome_parameters, strategy_0, num_generations)\n",
    "\n",
    "print(f\"Win-rate against gabriele: {evaluate_GA(best_genome, strategy_0, gabriele, NUM_MATCHES, NIM_SIZE, k_size=K_SIZE)}\")\n",
    "print(f\"Win-rate against pure_random: {evaluate_GA(best_genome, strategy_0, pure_random, NUM_MATCHES, NIM_SIZE, k_size=K_SIZE)}\")\n",
    "\n",
    "\n",
    "# Strategy 1\n",
    "print(f\"[info] - Strategy 1 results...\")\n",
    "genome_parameters = [\"alpha\", \"beta\"]\n",
    "num_generations = 30\n",
    "best_genome = run_GA(genome_parameters, strategy_1, num_generations)\n",
    "\n",
    "print(f\"Win-rate against gabriele: {evaluate_GA(best_genome, strategy_1, gabriele, NUM_MATCHES, NIM_SIZE, k_size=K_SIZE)}\")\n",
    "print(f\"Win-rate against pure_random: {evaluate_GA(best_genome, strategy_1, pure_random, NUM_MATCHES, NIM_SIZE, k_size=K_SIZE)}\")\n",
    "\n",
    "\n",
    "# Strategy 2\n",
    "print(f\"[info] - Strategy 2 results...\")\n",
    "genome_parameters = [\"alpha\", \"beta\", \"gamma\", \"percentage\"]\n",
    "num_generations = 30\n",
    "best_genome = run_GA(genome_parameters, strategy_2, num_generations)\n",
    "\n",
    "print(f\"Win-rate against gabriele: {evaluate_GA(best_genome, strategy_2, gabriele, NUM_MATCHES, NIM_SIZE, k_size=K_SIZE)}\")\n",
    "print(f\"Win-rate against pure_random: {evaluate_GA(best_genome, strategy_2, pure_random, NUM_MATCHES, NIM_SIZE, k_size=K_SIZE)}\")"
   ]
  },
  {
   "cell_type": "code",
   "execution_count": 69,
   "metadata": {
    "collapsed": false,
    "pycharm": {
     "name": "#%%\n"
    }
   },
   "outputs": [],
   "source": [
    "import random\n",
    "from nimply import Nim\n",
    "\n",
    "\n",
    "def challenge(genome0, strategy_0, genome1, strategy_1, num_matches=100, nim_size=10, k_size=None):\n",
    "    won = 0\n",
    "\n",
    "    for m in range(num_matches):\n",
    "        nim = Nim(nim_size, k=k_size)\n",
    "        player = random.randint(0, 1)\n",
    "        while nim:\n",
    "            if player == 0:\n",
    "                ply = strategy_0(nim, genome0)\n",
    "            else:\n",
    "                ply = strategy_1(nim, genome1)\n",
    "            nim.nimming(ply)\n",
    "            player = 1 - player\n",
    "        if player == 1:\n",
    "            won += 1\n",
    "    return won / num_matches\n",
    "\n",
    "genome0 = {'alpha': 0.33806644070961167, 'beta': 0.8983983212868427, 'gamma': 0.9974669535320325}\n",
    "genome1 = {'alpha': 0.8191618758747532, 'beta': 0.10484407005864857}\n",
    "\n",
    "challenge(genome0, strategy_0, genome1, strategy_1)"
   ]
  },
  {
   "cell_type": "markdown",
   "metadata": {
    "collapsed": false,
    "pycharm": {
     "name": "#%% md\n"
    }
   },
   "source": [
    "# Task 3"
   ]
  },
  {
   "cell_type": "markdown",
   "metadata": {
    "collapsed": false,
    "pycharm": {
     "name": "#%% md\n"
    }
   },
   "source": [
    "# Task 4"
   ]
  },
  {
   "cell_type": "code",
   "execution_count": 3,
   "metadata": {},
   "outputs": [
    {
     "name": "stdout",
     "output_type": "stream",
     "text": [
      "100: 62/100\n",
      "200: 68/100\n",
      "300: 79/100\n",
      "400: 83/100\n",
      "500: 78/100\n",
      "600: 79/100\n",
      "700: 87/100\n",
      "800: 86/100\n",
      "900: 87/100\n",
      "1000: 87/100\n",
      "1100: 87/100\n",
      "1200: 85/100\n",
      "1300: 90/100\n",
      "1400: 87/100\n",
      "1500: 88/100\n",
      "1600: 81/100\n",
      "1700: 88/100\n",
      "1800: 95/100\n",
      "1900: 84/100\n",
      "2000: 87/100\n",
      "2100: 89/100\n",
      "2200: 84/100\n",
      "2300: 86/100\n",
      "2400: 82/100\n",
      "2500: 94/100\n",
      "2600: 87/100\n",
      "2700: 82/100\n",
      "2800: 85/100\n",
      "2900: 93/100\n",
      "3000: 91/100\n",
      "3100: 87/100\n",
      "3200: 92/100\n",
      "3300: 86/100\n",
      "3400: 90/100\n",
      "3500: 98/100\n",
      "3600: 93/100\n",
      "3700: 96/100\n",
      "3800: 93/100\n",
      "3900: 92/100\n",
      "4000: 84/100\n",
      "4100: 90/100\n",
      "4200: 91/100\n",
      "4300: 94/100\n",
      "4400: 87/100\n",
      "4500: 87/100\n",
      "4600: 85/100\n",
      "4700: 90/100\n",
      "4800: 87/100\n",
      "4900: 94/100\n",
      "max winrate:  (98.0, 3500)\n"
     ]
    },
    {
     "data": {
      "image/png": "[encoded data removed]",
      "text/plain": [
       "<Figure size 640x480 with 1 Axes>"
      ]
     },
     "metadata": {},
     "output_type": "display_data"
    }
   ],
   "source": [
    "# alpha = 0.3, gamma = 0.9, epsilon = 0.1 -> (max_winrate, iteration) = (96.0, 4300)\n",
    "\n",
    "info = {\n",
    "    'alpha': 0.3,  # learning rate\n",
    "    'gamma': 0.9,  # memory\n",
    "    'epsilon': 0.1 # chance of making a random move\n",
    "}\n",
    "\n",
    "task4_Q(info)"
   ]
  },
  {
   "cell_type": "code",
   "execution_count": 3,
   "metadata": {},
   "outputs": [
    {
     "name": "stdout",
     "output_type": "stream",
     "text": [
      "100: 0/100\n",
      "200: 0/100\n",
      "300: 0/100\n",
      "400: 0/100\n",
      "500: 0/100\n",
      "600: 0/100\n",
      "700: 0/100\n",
      "800: 0/100\n",
      "900: 0/100\n",
      "1000: 0/100\n",
      "1100: 0/100\n",
      "1200: 0/100\n",
      "1300: 0/100\n",
      "1400: 0/100\n",
      "1500: 0/100\n",
      "1600: 0/100\n",
      "1700: 0/100\n",
      "1800: 0/100\n",
      "1900: 0/100\n",
      "2000: 0/100\n",
      "2100: 0/100\n",
      "2200: 0/100\n",
      "2300: 0/100\n",
      "2400: 0/100\n",
      "2500: 0/100\n",
      "2600: 0/100\n",
      "2700: 0/100\n",
      "2800: 0/100\n",
      "2900: 0/100\n",
      "3000: 0/100\n",
      "3100: 1/100\n",
      "3200: 1/100\n",
      "3300: 15/100\n",
      "3400: 33/100\n",
      "3500: 33/100\n",
      "3600: 47/100\n",
      "3700: 39/100\n",
      "3800: 43/100\n",
      "3900: 49/100\n",
      "4000: 56/100\n",
      "4100: 56/100\n",
      "4200: 50/100\n",
      "4300: 51/100\n",
      "4400: 65/100\n",
      "4500: 63/100\n",
      "4600: 66/100\n",
      "4700: 59/100\n",
      "4800: 66/100\n",
      "4900: 60/100\n",
      "5000: 63/100\n",
      "5100: 72/100\n",
      "5200: 67/100\n",
      "5300: 68/100\n",
      "5400: 69/100\n",
      "5500: 68/100\n",
      "5600: 60/100\n",
      "5700: 69/100\n",
      "5800: 63/100\n",
      "5900: 68/100\n",
      "6000: 75/100\n",
      "6100: 69/100\n",
      "6200: 71/100\n",
      "6300: 76/100\n",
      "6400: 73/100\n",
      "6500: 66/100\n",
      "6600: 69/100\n",
      "6700: 77/100\n",
      "6800: 65/100\n",
      "6900: 70/100\n",
      "7000: 67/100\n",
      "7100: 70/100\n",
      "7200: 66/100\n",
      "7300: 76/100\n",
      "7400: 64/100\n",
      "7500: 76/100\n",
      "7600: 67/100\n",
      "7700: 63/100\n",
      "7800: 82/100\n",
      "7900: 63/100\n",
      "8000: 82/100\n",
      "8100: 74/100\n",
      "8200: 67/100\n",
      "8300: 76/100\n",
      "8400: 73/100\n",
      "8500: 66/100\n",
      "8600: 71/100\n",
      "8700: 66/100\n",
      "8800: 70/100\n",
      "8900: 68/100\n",
      "9000: 73/100\n",
      "9100: 77/100\n",
      "9200: 82/100\n",
      "9300: 75/100\n",
      "9400: 73/100\n",
      "9500: 69/100\n",
      "9600: 67/100\n",
      "9700: 65/100\n",
      "9800: 62/100\n",
      "9900: 70/100\n",
      "10000: 67/100\n",
      "10100: 69/100\n",
      "10200: 67/100\n",
      "10300: 75/100\n",
      "10400: 69/100\n",
      "10500: 73/100\n",
      "10600: 67/100\n",
      "10700: 72/100\n",
      "10800: 76/100\n",
      "10900: 71/100\n",
      "11000: 74/100\n",
      "11100: 65/100\n",
      "11200: 68/100\n",
      "11300: 66/100\n",
      "11400: 70/100\n",
      "11500: 64/100\n",
      "11600: 70/100\n",
      "11700: 76/100\n",
      "11800: 72/100\n",
      "11900: 72/100\n",
      "12000: 75/100\n",
      "12100: 71/100\n",
      "12200: 73/100\n",
      "12300: 69/100\n",
      "12400: 68/100\n",
      "12500: 66/100\n",
      "12600: 64/100\n",
      "12700: 72/100\n",
      "12800: 73/100\n",
      "12900: 69/100\n",
      "13000: 79/100\n",
      "13100: 64/100\n",
      "13200: 64/100\n",
      "13300: 75/100\n",
      "13400: 76/100\n",
      "13500: 75/100\n",
      "13600: 74/100\n",
      "13700: 72/100\n",
      "13800: 71/100\n",
      "13900: 73/100\n",
      "14000: 66/100\n",
      "14100: 70/100\n",
      "14200: 71/100\n",
      "14300: 67/100\n",
      "14400: 71/100\n",
      "14500: 73/100\n",
      "14600: 63/100\n",
      "14700: 71/100\n",
      "14800: 73/100\n",
      "14900: 64/100\n",
      "15000: 67/100\n",
      "15100: 67/100\n",
      "15200: 68/100\n",
      "15300: 70/100\n",
      "15400: 69/100\n",
      "15500: 72/100\n",
      "15600: 67/100\n",
      "15700: 74/100\n",
      "15800: 68/100\n",
      "15900: 65/100\n",
      "16000: 62/100\n",
      "16100: 71/100\n",
      "16200: 73/100\n",
      "16300: 71/100\n",
      "16400: 71/100\n",
      "16500: 68/100\n",
      "16600: 70/100\n",
      "16700: 75/100\n",
      "16800: 73/100\n",
      "16900: 73/100\n",
      "17000: 68/100\n",
      "17100: 68/100\n",
      "17200: 71/100\n",
      "17300: 59/100\n",
      "17400: 64/100\n",
      "17500: 75/100\n",
      "17600: 72/100\n",
      "17700: 71/100\n",
      "17800: 72/100\n",
      "17900: 71/100\n",
      "18000: 66/100\n",
      "18100: 71/100\n",
      "18200: 70/100\n",
      "18300: 72/100\n",
      "18400: 73/100\n",
      "18500: 71/100\n",
      "18600: 79/100\n",
      "18700: 70/100\n",
      "18800: 62/100\n",
      "18900: 66/100\n",
      "19000: 62/100\n",
      "19100: 70/100\n",
      "19200: 68/100\n",
      "19300: 72/100\n",
      "19400: 71/100\n",
      "19500: 70/100\n",
      "19600: 72/100\n",
      "19700: 77/100\n",
      "19800: 69/100\n",
      "19900: 73/100\n",
      "20000: 73/100\n",
      "20100: 79/100\n",
      "20200: 75/100\n",
      "20300: 73/100\n",
      "20400: 66/100\n",
      "20500: 73/100\n",
      "20600: 72/100\n",
      "20700: 75/100\n",
      "20800: 69/100\n",
      "20900: 73/100\n",
      "21000: 72/100\n",
      "21100: 68/100\n",
      "21200: 61/100\n",
      "21300: 71/100\n",
      "21400: 60/100\n",
      "21500: 67/100\n",
      "21600: 72/100\n",
      "21700: 77/100\n",
      "21800: 59/100\n",
      "21900: 67/100\n",
      "22000: 63/100\n",
      "22100: 70/100\n",
      "22200: 74/100\n",
      "22300: 70/100\n",
      "22400: 74/100\n",
      "22500: 74/100\n",
      "22600: 68/100\n",
      "22700: 72/100\n",
      "22800: 67/100\n",
      "22900: 73/100\n",
      "23000: 69/100\n",
      "23100: 76/100\n",
      "23200: 75/100\n",
      "23300: 67/100\n",
      "23400: 74/100\n",
      "23500: 74/100\n",
      "23600: 64/100\n",
      "23700: 72/100\n",
      "23800: 67/100\n",
      "23900: 76/100\n",
      "24000: 79/100\n",
      "24100: 72/100\n",
      "24200: 75/100\n",
      "24300: 81/100\n",
      "24400: 72/100\n",
      "24500: 72/100\n",
      "24600: 71/100\n",
      "24700: 69/100\n",
      "24800: 70/100\n",
      "24900: 78/100\n",
      "25000: 66/100\n",
      "25100: 72/100\n",
      "25200: 73/100\n",
      "25300: 73/100\n",
      "25400: 64/100\n",
      "25500: 74/100\n",
      "25600: 70/100\n",
      "25700: 73/100\n",
      "25800: 72/100\n",
      "25900: 68/100\n",
      "26000: 73/100\n",
      "26100: 71/100\n",
      "26200: 64/100\n",
      "26300: 78/100\n",
      "26400: 78/100\n",
      "26500: 77/100\n",
      "26600: 73/100\n",
      "26700: 66/100\n",
      "26800: 73/100\n",
      "26900: 69/100\n",
      "27000: 70/100\n",
      "27100: 72/100\n",
      "27200: 79/100\n",
      "27300: 66/100\n",
      "27400: 73/100\n",
      "27500: 69/100\n",
      "27600: 73/100\n",
      "27700: 75/100\n",
      "27800: 64/100\n",
      "27900: 69/100\n",
      "28000: 70/100\n",
      "28100: 84/100\n",
      "28200: 63/100\n",
      "28300: 72/100\n",
      "28400: 72/100\n",
      "28500: 69/100\n",
      "28600: 72/100\n",
      "28700: 69/100\n",
      "28800: 72/100\n",
      "28900: 76/100\n",
      "29000: 74/100\n",
      "29100: 67/100\n",
      "29200: 74/100\n",
      "29300: 69/100\n",
      "29400: 70/100\n",
      "29500: 73/100\n",
      "29600: 68/100\n",
      "29700: 70/100\n",
      "29800: 65/100\n",
      "29900: 73/100\n",
      "max winrate:  (84.0, 28100)\n"
     ]
    },
    {
     "data": {
      "image/png": "[encoded data removed]",
      "text/plain": [
       "<Figure size 640x480 with 1 Axes>"
      ]
     },
     "metadata": {},
     "output_type": "display_data"
    }
   ],
   "source": [
    "info = {\n",
    "    'alpha': 0.3,  # learning rate\n",
    "    'gamma': 0.9,  # memory\n",
    "    'epsilon': 0.1 # chance of making a random move\n",
    "}\n",
    "\n",
    "task4_Q_optimal(info, iterations=30000)"
   ]
  },
  {
   "cell_type": "markdown",
   "metadata": {
    "collapsed": false,
    "pycharm": {
     "name": "#%% md\n"
    }
   },
   "source": [
    "## Oversimplified match"
   ]
  },
  {
   "cell_type": "code",
   "execution_count": 70,
   "metadata": {
    "collapsed": false,
    "pycharm": {
     "name": "#%%\n"
    }
   },
   "outputs": [],
   "source": [
    "play_match(fixed_rules_strategy, pure_random, 10, k_size=None)"
   ]
  }
 ],
 "metadata": {
  "kernelspec": {
   "display_name": ".venv",
   "language": "python",
   "name": "python3"
  },
  "language_info": {
   "codemirror_mode": {
    "name": "ipython",
    "version": 3
   },
   "file_extension": ".py",
   "mimetype": "text/x-python",
   "name": "python",
   "nbconvert_exporter": "python",
   "pygments_lexer": "ipython3",
   "version": "3.9.7"
  },
  "vscode": {
   "interpreter": {
    "hash": "f631067852a82f1a24b8747ec084d7709b52fc0746b207c7dab641db84749462"
   }
  }
 },
 "nbformat": 4,
 "nbformat_minor": 2
}
