{
 "cells": [
  {
   "cell_type": "code",
   "execution_count": 1,
   "metadata": {},
   "outputs": [],
   "source": [
    "import numpy as np\n",
    "import random\n",
    "import logging\n",
    "from copy import copy\n",
    "from collections import namedtuple"
   ]
  },
  {
   "cell_type": "code",
   "execution_count": 2,
   "metadata": {},
   "outputs": [],
   "source": [
    "logging.getLogger().setLevel(logging.INFO)"
   ]
  },
  {
   "cell_type": "code",
   "execution_count": 3,
   "metadata": {},
   "outputs": [],
   "source": [
    "NUM_GENERATIONS = 100\n",
    "MAX_INT = 100_000_000"
   ]
  },
  {
   "cell_type": "code",
   "execution_count": 4,
   "metadata": {},
   "outputs": [],
   "source": [
    "def problem(N, seed=None):\n",
    "    random.seed(seed)\n",
    "    return [\n",
    "        tuple(set(random.randint(0, N - 1) for n in range(random.randint(N // 5, N // 2))))\n",
    "        for n in range(random.randint(N, N * 5))\n",
    "    ]"
   ]
  },
  {
   "cell_type": "code",
   "execution_count": 5,
   "metadata": {},
   "outputs": [],
   "source": [
    "genes = problem(5, 42)"
   ]
  },
  {
   "cell_type": "markdown",
   "metadata": {},
   "source": [
    "# Main Methods"
   ]
  },
  {
   "cell_type": "code",
   "execution_count": 6,
   "metadata": {},
   "outputs": [],
   "source": [
    "Individual = namedtuple(\"Individual\", [\"genome\", \"fitness\"])\n",
    "\n",
    "\n",
    "def w(genome, N):\n",
    "    return -sum([len(g) for g in genome]) if is_valid(genome, N) else -MAX_INT\n",
    "\n",
    "\n",
    "def tournament(population, tournament_size=5):\n",
    "    return max(random.choices(population, k=tournament_size), key=lambda i: i.fitness)\n",
    "\n",
    "\n",
    "def cross_over(g1, g2, N, genes):\n",
    "    cut = random.randint(0, min([len(g1), len(g2)]))\n",
    "    g_new = g1[:cut] + g2[cut:]\n",
    "    g_max_old = g1 if w(g1, N) > w(g2, N) else g2\n",
    "    if len(g_new) < N:\n",
    "        gene = random.choice(tuple(set(genes) - set(g_new)))\n",
    "        g_new = g1[:cut] + (gene,) + g2[cut:]\n",
    "    return g_new if w(g_new, N) > w(g_max_old, N) else g_max_old\n",
    "\n",
    "def distance(gen, N):\n",
    "    \"\"\"\n",
    "    Function that assigns a penalty to a genome.\n",
    "    It is based on the distance between a set on the range of the PROBLEM_SIZE\n",
    "    and a generated set of the genes' elements.\n",
    "    \"\"\"\n",
    "    dist = set(range(N))\n",
    "    set_cover = set()\n",
    "    [[set_cover.add(_) for _ in g] for g in gen]\n",
    "\n",
    "    return len(dist - set_cover)\n",
    "\n",
    "def fitness(genome, N):\n",
    "    return w(genome, N)\n",
    "\n",
    "def is_valid(genome, N):\n",
    "    return distance(genome, N) == 0\n",
    "\n",
    "def mutation(g,N, genes):\n",
    "    point = random.randint(0, len(g) - 1)\n",
    "    gene = random.choice(tuple(set(genes) - set(g)))\n",
    "    new_genome = g[:point] + (gene,) + g[point + 1 :]\n",
    "\n",
    "    return new_genome if w(new_genome, N) > w(g, N) else g"
   ]
  },
  {
   "cell_type": "markdown",
   "metadata": {},
   "source": [
    "### Initial Population"
   ]
  },
  {
   "cell_type": "code",
   "execution_count": 11,
   "metadata": {},
   "outputs": [],
   "source": [
    "def generate_population(PROBLEM_SIZE, POPULATION_SIZE):\n",
    "    population = list()\n",
    "    genes = problem(PROBLEM_SIZE, 42)\n",
    "    for _ in range(POPULATION_SIZE):\n",
    "        genome = tuple(random.sample(genes, random.randint(1, PROBLEM_SIZE)))\n",
    "        population.append(Individual(genome, fitness(genome, PROBLEM_SIZE)))\n",
    "\n",
    "    return population, genes"
   ]
  },
  {
   "cell_type": "markdown",
   "metadata": {},
   "source": [
    "### Evolution"
   ]
  },
  {
   "cell_type": "code",
   "execution_count": 24,
   "metadata": {},
   "outputs": [],
   "source": [
    "def evolution(PROBLEM_SIZE, POPULATION_SIZE, population, genes):\n",
    "\n",
    "    fitness_log = [(0, i.fitness) for i in population]\n",
    "    \n",
    "    OFF_SIZE = int((PROBLEM_SIZE - PROBLEM_SIZE * 0.02 * np.round(np.log2(PROBLEM_SIZE)))) if PROBLEM_SIZE > 50 else PROBLEM_SIZE\n",
    "\n",
    "    if PROBLEM_SIZE == 1000:\n",
    "        OFF_SIZE = 450\n",
    "    \n",
    "    for g in range(NUM_GENERATIONS):\n",
    "        offspring = list()\n",
    "        for i in range(OFF_SIZE):\n",
    "            if random.random() < 0.4:\n",
    "                p = tournament(population)\n",
    "                o = mutation(p.genome, i, genes)\n",
    "            else:\n",
    "                p1 = tournament(population)\n",
    "                p2 = tournament(population)\n",
    "                o = cross_over(p1.genome, p2.genome, i, genes)\n",
    "            f = fitness(o, PROBLEM_SIZE)\n",
    "            fitness_log.append((g, f))\n",
    "            offspring.append(Individual(o, f))\n",
    "        population += offspring\n",
    "        population = sorted(population, key=lambda i: i.fitness, reverse=True)[:POPULATION_SIZE]\n",
    "\n",
    "    logging.info(f'Problem size: {PROBLEM_SIZE}, Population size: {POPULATION_SIZE}, offspring size: {OFF_SIZE}, best solution: {-population[0].fitness}')\n",
    "    return fitness_log\n"
   ]
  },
  {
   "cell_type": "code",
   "execution_count": 25,
   "metadata": {},
   "outputs": [
    {
     "name": "stderr",
     "output_type": "stream",
     "text": [
      "INFO:root:Problem size: 5, Population size: 50, offspring size: 5, best solution: 5\n",
      "INFO:root:Problem size: 10, Population size: 100, offspring size: 10, best solution: 12\n",
      "INFO:root:Problem size: 20, Population size: 200, offspring size: 20, best solution: 27\n",
      "INFO:root:Problem size: 50, Population size: 500, offspring size: 50, best solution: 95\n",
      "INFO:root:Problem size: 100, Population size: 1000, offspring size: 86, best solution: 241\n",
      "INFO:root:Problem size: 500, Population size: 2500, offspring size: 410, best solution: 1690\n",
      "INFO:root:Problem size: 1000, Population size: 5000, offspring size: 450, best solution: 4016\n"
     ]
    }
   ],
   "source": [
    "for i in [5, 10, 20, 50, 100, 500, 1000]:\n",
    "    POPULATION_SIZE = i * 10 if i < 500 else i * 5\n",
    "    population, genes = generate_population(i, POPULATION_SIZE)\n",
    "    fitness_log = evolution(i, POPULATION_SIZE, population, genes)\n",
    "    "
   ]
  }
 ],
 "metadata": {
  "kernelspec": {
   "display_name": "Python 3.9.7 ('.venv': poetry)",
   "language": "python",
   "name": "python3"
  },
  "language_info": {
   "codemirror_mode": {
    "name": "ipython",
    "version": 3
   },
   "file_extension": ".py",
   "mimetype": "text/x-python",
   "name": "python",
   "nbconvert_exporter": "python",
   "pygments_lexer": "ipython3",
   "version": "3.9.7"
  },
  "orig_nbformat": 4,
  "vscode": {
   "interpreter": {
    "hash": "f631067852a82f1a24b8747ec084d7709b52fc0746b207c7dab641db84749462"
   }
  }
 },
 "nbformat": 4,
 "nbformat_minor": 2
}
