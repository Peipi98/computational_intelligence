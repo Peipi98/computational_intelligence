{
 "cells": [
  {
   "cell_type": "code",
   "execution_count": 1,
   "metadata": {},
   "outputs": [],
   "source": [
    "import numpy as np\n",
    "import random\n",
    "import logging\n",
    "from copy import copy\n",
    "from collections import namedtuple"
   ]
  },
  {
   "cell_type": "code",
   "execution_count": 2,
   "metadata": {},
   "outputs": [],
   "source": [
    "logging.getLogger().setLevel(logging.INFO)"
   ]
  },
  {
   "cell_type": "code",
   "execution_count": 3,
   "metadata": {},
   "outputs": [],
   "source": [
    "PROBLEM_SIZE = 5\n",
    "POPULATION_SIZE = 5\n",
    "OFFSPRING_SIZE = 5\n",
    "\n",
    "NUM_GENERATIONS = 100\n",
    "MAX_INT = 100_000_000"
   ]
  },
  {
   "cell_type": "code",
   "execution_count": 4,
   "metadata": {},
   "outputs": [],
   "source": [
    "def problem(N, seed=None):\n",
    "    random.seed(seed)\n",
    "    return [\n",
    "        tuple(set(random.randint(0, N - 1) for n in range(random.randint(N // 5, N // 2))))\n",
    "        for n in range(random.randint(N, N * 5))\n",
    "    ]"
   ]
  },
  {
   "cell_type": "code",
   "execution_count": 5,
   "metadata": {},
   "outputs": [],
   "source": [
    "genes = problem(5, 42)"
   ]
  },
  {
   "cell_type": "code",
   "execution_count": 6,
   "metadata": {},
   "outputs": [],
   "source": [
    "from traitlets import Integer\n",
    "\n",
    "\n",
    "Individual = namedtuple(\"Individual\", [\"genome\", \"fitness\"])\n",
    "\n",
    "\n",
    "def onemax(genome, N):\n",
    "    return -sum([len(g) for g in genome]) if is_valid(genome, N) else -MAX_INT\n",
    "\n",
    "\n",
    "def tournament(population, tournament_size=2):\n",
    "    return max(random.choices(population, k=tournament_size), key=lambda i: i.fitness)\n",
    "\n",
    "\n",
    "def cross_over(g1, g2):\n",
    "    cut = random.randint(0, PROBLEM_SIZE)\n",
    "    return g1[:cut] + g2[cut:]\n",
    "\n",
    "def distance(gen, N):\n",
    "    \"\"\"\n",
    "    Function that assigns a penalty to a genome.\n",
    "    It is based on the distance between a set on the range of the PROBLEM_SIZE\n",
    "    and a generated set of the genes' elements.\n",
    "    \"\"\"\n",
    "    dist = set(range(N))\n",
    "    set_cover = set()\n",
    "    [[set_cover.add(_) for _ in g] for g in gen]\n",
    "    return -len(dist - set_cover)\n",
    "\n",
    "def fitness(genome, N):\n",
    "    #return (onemax(genome), -repetitions(genome, N), -distance(genome, N))\n",
    "    return (onemax(genome, N), -distance(genome, N))\n",
    "\n",
    "def repetitions(genome, N):\n",
    "    '''\n",
    "    count the repetition of the alleles and retrieve their sum\n",
    "    in order to give the genome a \"malus\"\n",
    "    '''\n",
    "    set_cover = set()\n",
    "    [[set_cover.add(_) for _ in g ]for g in genome]\n",
    "    set_rep = dict.fromkeys(set_cover, -1)\n",
    "    \n",
    "    for gen in genome:\n",
    "        for g in gen:\n",
    "            set_rep[g] += 1\n",
    "    \n",
    "    return -sum(set_rep.values())\n",
    "\n",
    "def is_valid(genome, N):\n",
    "    return distance(genome, N) == 0\n",
    "\n",
    "def mutation(g):\n",
    "    point = random.randint(0, PROBLEM_SIZE - 1)\n",
    "    point_1 = random.randint(0, PROBLEM_SIZE - 1)\n",
    "    point_2 = random.randint(0, PROBLEM_SIZE - 1)\n",
    "    swap_1 = g[point_1]\n",
    "    swap_2 = g[point_2]\n",
    "    return g[:point_1] + (swap_2) + g[point_1+1:point_2] + (swap_1) + g[point_2+1:]\n",
    "    #return tuple(sorted(g))\n",
    "    #return g[:point] + tuple(random.choices(genes)) + g[point + 1 :]\n",
    "    # better solution can be found in swapping two genes"
   ]
  },
  {
   "cell_type": "markdown",
   "metadata": {},
   "source": [
    "### Initial Population"
   ]
  },
  {
   "cell_type": "markdown",
   "metadata": {},
   "source": [
    "### My code"
   ]
  },
  {
   "cell_type": "code",
   "execution_count": 7,
   "metadata": {},
   "outputs": [],
   "source": [
    "def generate_population(PROBLEM_SIZE):\n",
    "    population = list()\n",
    "    genes = problem(PROBLEM_SIZE, 42)\n",
    "    for genome in [tuple([random.choice(genes) for _ in range(PROBLEM_SIZE)]) for _ in range(POPULATION_SIZE)]:\n",
    "        population.append(Individual(genome, fitness(genome, PROBLEM_SIZE)))\n",
    "\n",
    "    #logging.info(f\"init: pop_size={len(population)}; max={max(population, key=lambda i: i.fitness)[1]}\")\n",
    "    return population"
   ]
  },
  {
   "cell_type": "markdown",
   "metadata": {},
   "source": [
    "### Evolution"
   ]
  },
  {
   "cell_type": "code",
   "execution_count": 8,
   "metadata": {},
   "outputs": [],
   "source": [
    "def evolution(PROBLEM_SIZE, POPULATION_SIZE, population):\n",
    "\n",
    "    fitness_log = [(0, i.fitness) for i in population]\n",
    "\n",
    "    for g in range(NUM_GENERATIONS):\n",
    "        offspring = list()\n",
    "        for i in range(OFFSPRING_SIZE):\n",
    "            if random.random() < 0.3:\n",
    "                p = tournament(population)\n",
    "                o = mutation(p.genome)\n",
    "            else:\n",
    "                p1 = tournament(population)\n",
    "                p2 = tournament(population)\n",
    "                o = cross_over(p1.genome, p2.genome)\n",
    "            #f = onemax(o)\n",
    "            f = fitness(o, PROBLEM_SIZE)\n",
    "            fitness_log.append((g + 1, f))\n",
    "            offspring.append(Individual(o, f))\n",
    "        population += offspring\n",
    "        population = sorted(population, key=lambda i: i.fitness, reverse=False)[:POPULATION_SIZE]\n",
    "\n",
    "    logging.info(f'Population size: {PROBLEM_SIZE}, best solution: {population[0].fitness}')\n"
   ]
  },
  {
   "cell_type": "code",
   "execution_count": 9,
   "metadata": {},
   "outputs": [
    {
     "ename": "TypeError",
     "evalue": "'int' object is not iterable",
     "output_type": "error",
     "traceback": [
      "\u001b[0;31m---------------------------------------------------------------------------\u001b[0m",
      "\u001b[0;31mTypeError\u001b[0m                                 Traceback (most recent call last)",
      "Cell \u001b[0;32mIn [9], line 3\u001b[0m\n\u001b[1;32m      1\u001b[0m \u001b[39mfor\u001b[39;00m i \u001b[39min\u001b[39;00m [\u001b[39m5\u001b[39m,\u001b[39m10\u001b[39m,\u001b[39m20\u001b[39m,\u001b[39m50\u001b[39m, \u001b[39m100\u001b[39m, \u001b[39m500\u001b[39m, \u001b[39m1000\u001b[39m]:\n\u001b[1;32m      2\u001b[0m     population \u001b[39m=\u001b[39m generate_population(i)\n\u001b[0;32m----> 3\u001b[0m     evolution(i, i, population)\n",
      "Cell \u001b[0;32mIn [8], line 16\u001b[0m, in \u001b[0;36mevolution\u001b[0;34m(PROBLEM_SIZE, POPULATION_SIZE, population)\u001b[0m\n\u001b[1;32m     14\u001b[0m     o \u001b[39m=\u001b[39m cross_over(p1\u001b[39m.\u001b[39mgenome, p2\u001b[39m.\u001b[39mgenome)\n\u001b[1;32m     15\u001b[0m \u001b[39m#f = onemax(o)\u001b[39;00m\n\u001b[0;32m---> 16\u001b[0m f \u001b[39m=\u001b[39m fitness(o, PROBLEM_SIZE)\n\u001b[1;32m     17\u001b[0m fitness_log\u001b[39m.\u001b[39mappend((g \u001b[39m+\u001b[39m \u001b[39m1\u001b[39m, f))\n\u001b[1;32m     18\u001b[0m offspring\u001b[39m.\u001b[39mappend(Individual(o, f))\n",
      "Cell \u001b[0;32mIn [6], line 32\u001b[0m, in \u001b[0;36mfitness\u001b[0;34m(genome, N)\u001b[0m\n\u001b[1;32m     30\u001b[0m \u001b[39mdef\u001b[39;00m \u001b[39mfitness\u001b[39m(genome, N):\n\u001b[1;32m     31\u001b[0m     \u001b[39m#return (onemax(genome), -repetitions(genome, N), -distance(genome, N))\u001b[39;00m\n\u001b[0;32m---> 32\u001b[0m     \u001b[39mreturn\u001b[39;00m (onemax(genome, N), \u001b[39m-\u001b[39mdistance(genome, N))\n",
      "Cell \u001b[0;32mIn [6], line 8\u001b[0m, in \u001b[0;36monemax\u001b[0;34m(genome, N)\u001b[0m\n\u001b[1;32m      7\u001b[0m \u001b[39mdef\u001b[39;00m \u001b[39monemax\u001b[39m(genome, N):\n\u001b[0;32m----> 8\u001b[0m     \u001b[39mreturn\u001b[39;00m \u001b[39m-\u001b[39m\u001b[39msum\u001b[39m([\u001b[39mlen\u001b[39m(g) \u001b[39mfor\u001b[39;00m g \u001b[39min\u001b[39;00m genome]) \u001b[39mif\u001b[39;00m is_valid(genome, N) \u001b[39melse\u001b[39;00m \u001b[39m-\u001b[39mMAX_INT\n",
      "Cell \u001b[0;32mIn [6], line 50\u001b[0m, in \u001b[0;36mis_valid\u001b[0;34m(genome, N)\u001b[0m\n\u001b[1;32m     49\u001b[0m \u001b[39mdef\u001b[39;00m \u001b[39mis_valid\u001b[39m(genome, N):\n\u001b[0;32m---> 50\u001b[0m     \u001b[39mreturn\u001b[39;00m distance(genome, N) \u001b[39m==\u001b[39m \u001b[39m0\u001b[39m\n",
      "Cell \u001b[0;32mIn [6], line 27\u001b[0m, in \u001b[0;36mdistance\u001b[0;34m(gen, N)\u001b[0m\n\u001b[1;32m     25\u001b[0m dist \u001b[39m=\u001b[39m \u001b[39mset\u001b[39m(\u001b[39mrange\u001b[39m(N))\n\u001b[1;32m     26\u001b[0m set_cover \u001b[39m=\u001b[39m \u001b[39mset\u001b[39m()\n\u001b[0;32m---> 27\u001b[0m [[set_cover\u001b[39m.\u001b[39madd(_) \u001b[39mfor\u001b[39;00m _ \u001b[39min\u001b[39;00m g] \u001b[39mfor\u001b[39;00m g \u001b[39min\u001b[39;00m gen]\n\u001b[1;32m     28\u001b[0m \u001b[39mreturn\u001b[39;00m \u001b[39m-\u001b[39m\u001b[39mlen\u001b[39m(dist \u001b[39m-\u001b[39m set_cover)\n",
      "Cell \u001b[0;32mIn [6], line 27\u001b[0m, in \u001b[0;36m<listcomp>\u001b[0;34m(.0)\u001b[0m\n\u001b[1;32m     25\u001b[0m dist \u001b[39m=\u001b[39m \u001b[39mset\u001b[39m(\u001b[39mrange\u001b[39m(N))\n\u001b[1;32m     26\u001b[0m set_cover \u001b[39m=\u001b[39m \u001b[39mset\u001b[39m()\n\u001b[0;32m---> 27\u001b[0m [[set_cover\u001b[39m.\u001b[39madd(_) \u001b[39mfor\u001b[39;00m _ \u001b[39min\u001b[39;00m g] \u001b[39mfor\u001b[39;00m g \u001b[39min\u001b[39;00m gen]\n\u001b[1;32m     28\u001b[0m \u001b[39mreturn\u001b[39;00m \u001b[39m-\u001b[39m\u001b[39mlen\u001b[39m(dist \u001b[39m-\u001b[39m set_cover)\n",
      "\u001b[0;31mTypeError\u001b[0m: 'int' object is not iterable"
     ]
    }
   ],
   "source": [
    "for i in [5,10,20,50, 100, 500, 1000]:\n",
    "    population = generate_population(i)\n",
    "    evolution(i, i, population)"
   ]
  }
 ],
 "metadata": {
  "kernelspec": {
   "display_name": "Python 3.9.7 ('.venv': poetry)",
   "language": "python",
   "name": "python3"
  },
  "language_info": {
   "codemirror_mode": {
    "name": "ipython",
    "version": 3
   },
   "file_extension": ".py",
   "mimetype": "text/x-python",
   "name": "python",
   "nbconvert_exporter": "python",
   "pygments_lexer": "ipython3",
   "version": "3.9.7"
  },
  "orig_nbformat": 4,
  "vscode": {
   "interpreter": {
    "hash": "f631067852a82f1a24b8747ec084d7709b52fc0746b207c7dab641db84749462"
   }
  }
 },
 "nbformat": 4,
 "nbformat_minor": 2
}
